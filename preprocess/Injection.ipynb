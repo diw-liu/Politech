{
 "cells": [
  {
   "cell_type": "code",
   "execution_count": 1,
   "id": "2d48bb07",
   "metadata": {},
   "outputs": [],
   "source": [
    "NAME = \"PA\"\n",
    "FIPS = 42"
   ]
  },
  {
   "cell_type": "code",
   "execution_count": 2,
   "id": "0ae47dc8",
   "metadata": {},
   "outputs": [],
   "source": [
    "import geopandas as gpd\n",
    "import pandas as pd\n",
    "from sqlalchemy import create_engine, MetaData, Table, Column, Integer, String, ForeignKey\n",
    "from sqlalchemy.dialects.mysql import LONGTEXT, VARCHAR, TINYBLOB\n",
    "import math"
   ]
  },
  {
   "cell_type": "code",
   "execution_count": 3,
   "id": "996af5d6",
   "metadata": {},
   "outputs": [],
   "source": [
    "engine = create_engine('mysql+pymysql://Pistons:ASIO0qw1!dsij01/a?@mysql3.cs.stonybrook.edu:3306/Pistons', echo=True, pool_pre_ping=True, pool_recycle=3600, pool_size=20)\n",
    "meta = MetaData()"
   ]
  },
  {
   "cell_type": "code",
   "execution_count": 4,
   "id": "e7d74a54",
   "metadata": {
    "scrolled": false
   },
   "outputs": [
    {
     "name": "stdout",
     "output_type": "stream",
     "text": [
      "2021-12-13 23:39:39,644 INFO sqlalchemy.engine.Engine SHOW VARIABLES LIKE 'sql_mode'\n",
      "2021-12-13 23:39:39,645 INFO sqlalchemy.engine.Engine [raw sql] {}\n",
      "2021-12-13 23:39:39,661 INFO sqlalchemy.engine.Engine SHOW VARIABLES LIKE 'lower_case_table_names'\n",
      "2021-12-13 23:39:39,661 INFO sqlalchemy.engine.Engine [generated in 0.00065s] {}\n",
      "2021-12-13 23:39:39,695 INFO sqlalchemy.engine.Engine SELECT DATABASE()\n",
      "2021-12-13 23:39:39,695 INFO sqlalchemy.engine.Engine [raw sql] {}\n",
      "2021-12-13 23:39:39,744 INFO sqlalchemy.engine.Engine BEGIN (implicit)\n",
      "2021-12-13 23:39:39,746 INFO sqlalchemy.engine.Engine SELECT COUNT(*) FROM information_schema.tables WHERE table_schema = %(table_schema)s AND table_name = %(table_name)s\n",
      "2021-12-13 23:39:39,746 INFO sqlalchemy.engine.Engine [generated in 0.00050s] {'table_schema': 'pistons', 'table_name': 'CensusBlocks'}\n",
      "2021-12-13 23:39:39,762 INFO sqlalchemy.engine.Engine SELECT COUNT(*) FROM information_schema.tables WHERE table_schema = %(table_schema)s AND table_name = %(table_name)s\n",
      "2021-12-13 23:39:39,763 INFO sqlalchemy.engine.Engine [cached since 0.01732s ago] {'table_schema': 'pistons', 'table_name': 'Precincts'}\n",
      "2021-12-13 23:39:39,778 INFO sqlalchemy.engine.Engine SELECT COUNT(*) FROM information_schema.tables WHERE table_schema = %(table_schema)s AND table_name = %(table_name)s\n",
      "2021-12-13 23:39:39,779 INFO sqlalchemy.engine.Engine [cached since 0.03364s ago] {'table_schema': 'pistons', 'table_name': 'Districts'}\n",
      "2021-12-13 23:39:39,794 INFO sqlalchemy.engine.Engine SELECT COUNT(*) FROM information_schema.tables WHERE table_schema = %(table_schema)s AND table_name = %(table_name)s\n",
      "2021-12-13 23:39:39,794 INFO sqlalchemy.engine.Engine [cached since 0.04896s ago] {'table_schema': 'pistons', 'table_name': 'County'}\n",
      "2021-12-13 23:39:39,811 INFO sqlalchemy.engine.Engine SELECT COUNT(*) FROM information_schema.tables WHERE table_schema = %(table_schema)s AND table_name = %(table_name)s\n",
      "2021-12-13 23:39:39,811 INFO sqlalchemy.engine.Engine [cached since 0.06565s ago] {'table_schema': 'pistons', 'table_name': 'Districtings'}\n",
      "2021-12-13 23:39:39,829 INFO sqlalchemy.engine.Engine SELECT COUNT(*) FROM information_schema.tables WHERE table_schema = %(table_schema)s AND table_name = %(table_name)s\n",
      "2021-12-13 23:39:39,830 INFO sqlalchemy.engine.Engine [cached since 0.08447s ago] {'table_schema': 'pistons', 'table_name': 'States'}\n",
      "2021-12-13 23:39:39,848 INFO sqlalchemy.engine.Engine SELECT COUNT(*) FROM information_schema.tables WHERE table_schema = %(table_schema)s AND table_name = %(table_name)s\n",
      "2021-12-13 23:39:39,849 INFO sqlalchemy.engine.Engine [cached since 0.1033s ago] {'table_schema': 'pistons', 'table_name': 'Elections'}\n",
      "2021-12-13 23:39:39,865 INFO sqlalchemy.engine.Engine SELECT COUNT(*) FROM information_schema.tables WHERE table_schema = %(table_schema)s AND table_name = %(table_name)s\n",
      "2021-12-13 23:39:39,866 INFO sqlalchemy.engine.Engine [cached since 0.12s ago] {'table_schema': 'pistons', 'table_name': 'Populations'}\n",
      "2021-12-13 23:39:39,882 INFO sqlalchemy.engine.Engine SELECT COUNT(*) FROM information_schema.tables WHERE table_schema = %(table_schema)s AND table_name = %(table_name)s\n",
      "2021-12-13 23:39:39,883 INFO sqlalchemy.engine.Engine [cached since 0.1373s ago] {'table_schema': 'pistons', 'table_name': 'VotingAgePopulations'}\n",
      "2021-12-13 23:39:39,899 INFO sqlalchemy.engine.Engine COMMIT\n"
     ]
    }
   ],
   "source": [
    "# Blocks = Table(\n",
    "#    'Blocks', meta, \n",
    "#     Column('ID', String(255), primary_key = True), \n",
    "#     Column('COUNTY', String(255)), \n",
    "#     Column('NUMBER', String(255)), \n",
    "#     Column('CD', String(255)), \n",
    "# )\n",
    "# Districts = Table(\n",
    "#    'Districts', meta, \n",
    "#     Column('id', String(255), primary_key = True),\n",
    "#     Column('cd', String(255)), \n",
    "#     Column('geometry', LONGTEXT), \n",
    "#     Column('districtingId', String(255),ForeignKey('Districtings.id')), \n",
    "#     Column('electionId', String(255), ForeignKey('Elections.id')), \n",
    "#     Column('populationId', String(255), ForeignKey('Populations.id')), \n",
    "#     Column('vapId', String(255), ForeignKey('VotingAgePopulations.id')),\n",
    "# )\n",
    "# States = Table(\n",
    "#    'States', meta, \n",
    "#     Column('id', String(255), primary_key = True), \n",
    "#     Column('geometry', LONGTEXT), \n",
    "#     Column('name', String(255)), \n",
    "# )\n",
    "# Districtings = Table(\n",
    "#    'Districtings', meta, \n",
    "#     Column('id', String(255), primary_key = True), \n",
    "#     Column('electionId', String(255), ForeignKey('Elections.id')), \n",
    "#     Column('populationId', String(255), ForeignKey('Populations.id')), \n",
    "#     Column('stateId', String(255), ForeignKey('States.id')), \n",
    "#     Column('vapId', String(255), ForeignKey('VotingAgePopulations.id')),\n",
    "# )\n",
    "CensusBlocks = Table(\n",
    "   'CensusBlocks', meta, \n",
    "    Column('id', String(255), primary_key = True),\n",
    "    Column('geometry', LONGTEXT), \n",
    "    Column('electionId', String(255), ForeignKey('Elections.id')), \n",
    "    Column('populationId', String(255), ForeignKey('Populations.id')), \n",
    "    Column('precinctId', String(255), ForeignKey('Precincts.id')), \n",
    "    Column('vapId', String(255), ForeignKey('VotingAgePopulations.id')),\n",
    ")\n",
    "Precincts = Table(\n",
    "   'Precincts', meta, \n",
    "    Column('id', String(255), primary_key = True),\n",
    "    Column('districtId', String(255)), \n",
    "    Column('geometry', LONGTEXT), \n",
    "    Column('electionId', String(255), ForeignKey('Elections.id')), \n",
    "    Column('populationId', String(255), ForeignKey('Populations.id')), \n",
    "    Column('vapId', String(255), ForeignKey('VotingAgePopulations.id')),\n",
    "    Column('county', String(255)),\n",
    ")\n",
    "Districts = Table(\n",
    "   'Districts', meta, \n",
    "    Column('id', String(255), primary_key = True),\n",
    "    Column('cd', String(255)), \n",
    "    Column('geometry', LONGTEXT), \n",
    "    Column('districtingId', String(255), ForeignKey('Districtings.id')), \n",
    "    Column('electionId', String(255), ForeignKey('Elections.id')), \n",
    "    Column('populationId', String(255), ForeignKey('Populations.id')), \n",
    "    Column('vapId', String(255), ForeignKey('VotingAgePopulations.id')),\n",
    ")\n",
    "County = Table(\n",
    "    'County', meta, \n",
    "    Column('id', String(255), primary_key = True),\n",
    "    Column('state', String(255)), \n",
    "    Column('county', String(255)), \n",
    "    Column('geometry', LONGTEXT), \n",
    ")\n",
    "# DistrictsGeo = Table(\n",
    "#    'DistrictsGeo', meta, \n",
    "#     Column('id', String(255), primary_key = True),\n",
    "#     Column('geometry', LONGTEXT), \n",
    "# )\n",
    "Districtings = Table(\n",
    "   'Districtings', meta, \n",
    "    Column('id', String(255), primary_key = True),\n",
    "    Column('electionId', String(255), ForeignKey('Elections.id')), \n",
    "    Column('populationId', String(255), ForeignKey('Populations.id')), \n",
    "    Column('stateId', String(255), ForeignKey('States.id')),\n",
    "    Column('vapId', String(255), ForeignKey('VotingAgePopulations.id')),\n",
    ")\n",
    "States = Table(\n",
    "   'States', meta, \n",
    "    Column('id', String(255), primary_key = True),\n",
    "    Column('geometry', LONGTEXT), \n",
    "    Column('name', String(255)), \n",
    "     Column('enactedId', String(255), ForeignKey('Districtings.id')),\n",
    ")\n",
    "Elections = Table(\n",
    "   'Elections', meta, \n",
    "    Column('id', String(255), primary_key = True), \n",
    "    Column('democraticVotes', Integer), \n",
    "    Column('republicanVotes', Integer), \n",
    "    Column('otherVotes', Integer), \n",
    "    Column('totalVotes', Integer), \n",
    "    Column('type', String(255)), \n",
    ")\n",
    "Populations = Table(\n",
    "    'Populations', meta, \n",
    "    Column('id', String(255), primary_key = True), \n",
    "    Column('TOTAL', Integer), \n",
    "    Column('HISPA', Integer), \n",
    "    Column('WHITE', Integer), \n",
    "    Column('BLACK', Integer), \n",
    "    Column('NATIV', Integer), \n",
    "    Column('ASIAN', Integer),  \n",
    "    Column('OTHER', Integer), \n",
    ")\n",
    "VotingAgePopulations = Table(\n",
    "    'VotingAgePopulations', meta, \n",
    "    Column('id', String(255), primary_key = True), \n",
    "    Column('TOTAL', Integer), \n",
    "    Column('HISPA', Integer), \n",
    "    Column('WHITE', Integer), \n",
    "    Column('BLACK', Integer), \n",
    "    Column('NATIV', Integer), \n",
    "    Column('ASIAN', Integer),  \n",
    "    Column('OTHER', Integer), \n",
    ")\n",
    "meta.create_all(engine)"
   ]
  },
  {
   "cell_type": "markdown",
   "id": "3075966b",
   "metadata": {},
   "source": [
    "# Reading"
   ]
  },
  {
   "cell_type": "code",
   "execution_count": 5,
   "id": "8ca6c0ab",
   "metadata": {},
   "outputs": [],
   "source": [
    "block = gpd.read_file('./{name}_Block.geojson'.format(name=NAME))\n",
    "district = gpd.read_file('./{name}_District.geojson'.format(name=NAME))\n",
    "precint = gpd.read_file('./{name}_Precints.geojson'.format(name=NAME))\n",
    "state = gpd.read_file('./{name}_State.geojson'.format(name=NAME))\n",
    "districting = pd.read_csv('./{name}_Districting.csv'.format(name=NAME))"
   ]
  },
  {
   "cell_type": "code",
   "execution_count": null,
   "id": "be3010c9",
   "metadata": {},
   "outputs": [],
   "source": [
    "county = gpd.read_file('./{name}_County.geojson'.format(name=NAME))"
   ]
  },
  {
   "cell_type": "code",
   "execution_count": null,
   "id": "2986d42b",
   "metadata": {},
   "outputs": [],
   "source": [
    "precint = gpd.read_file('./{name}_Precints.geojson'.format(name=NAME))"
   ]
  },
  {
   "cell_type": "code",
   "execution_count": null,
   "id": "95745c38",
   "metadata": {},
   "outputs": [],
   "source": [
    "precint"
   ]
  },
  {
   "cell_type": "code",
   "execution_count": null,
   "id": "c84cc7fa",
   "metadata": {},
   "outputs": [],
   "source": [
    "districting.rename(columns = {\"Unnamed: 0\":\"index\"}, inplace = True)"
   ]
  },
  {
   "cell_type": "code",
   "execution_count": null,
   "id": "c2686ccf",
   "metadata": {},
   "outputs": [],
   "source": [
    "levels = [block,district,precint,districting]"
   ]
  },
  {
   "cell_type": "markdown",
   "id": "415d857c",
   "metadata": {},
   "source": [
    "# Population"
   ]
  },
  {
   "cell_type": "code",
   "execution_count": null,
   "id": "a7a719e2",
   "metadata": {},
   "outputs": [],
   "source": [
    "def getPopulation(levels):\n",
    "    temp = levels[0].loc[:, \"TOTAL\":\"OTHER\"].join(levels[0][\"index\"])\n",
    "    for i in range(1,len(levels)):\n",
    "        temp = pd.concat([temp,levels[i].loc[:, \"TOTAL\":\"OTHER\"].join(levels[i][\"index\"])])\n",
    "    return temp"
   ]
  },
  {
   "cell_type": "code",
   "execution_count": null,
   "id": "e74ae228",
   "metadata": {},
   "outputs": [],
   "source": [
    "population = getPopulation(levels)"
   ]
  },
  {
   "cell_type": "code",
   "execution_count": null,
   "id": "01527899",
   "metadata": {},
   "outputs": [],
   "source": [
    "population"
   ]
  },
  {
   "cell_type": "code",
   "execution_count": null,
   "id": "bdf933fc",
   "metadata": {},
   "outputs": [],
   "source": [
    "population.rename(columns = {\"index\":\"id\"}, inplace = True)"
   ]
  },
  {
   "cell_type": "code",
   "execution_count": null,
   "id": "7a5bc19c",
   "metadata": {
    "scrolled": false
   },
   "outputs": [],
   "source": [
    "conn = engine.connect()\n",
    "conn.execute(Populations.insert(),population.to_dict('records'))"
   ]
  },
  {
   "cell_type": "markdown",
   "id": "47d599ce",
   "metadata": {},
   "source": [
    "# Election"
   ]
  },
  {
   "cell_type": "code",
   "execution_count": null,
   "id": "e6d66035",
   "metadata": {},
   "outputs": [],
   "source": [
    "# [block,district,precint,districting]"
   ]
  },
  {
   "cell_type": "code",
   "execution_count": null,
   "id": "3fc3c2c3",
   "metadata": {},
   "outputs": [],
   "source": [
    "districting"
   ]
  },
  {
   "cell_type": "code",
   "execution_count": null,
   "id": "ac329c4a",
   "metadata": {},
   "outputs": [],
   "source": [
    "def getElection(levels):\n",
    "    temp = levels[0].loc[:, \"democraticVotes\":\"type\"].join(levels[0][\"index\"])\n",
    "    for i in range(1,len(levels)):\n",
    "        temp = pd.concat([temp,levels[i].loc[:, \"democraticVotes\":\"type\"].join(levels[i][\"index\"])])\n",
    "    return temp"
   ]
  },
  {
   "cell_type": "code",
   "execution_count": null,
   "id": "eea5799c",
   "metadata": {},
   "outputs": [],
   "source": [
    "election = getElection(levels)"
   ]
  },
  {
   "cell_type": "code",
   "execution_count": null,
   "id": "51a42540",
   "metadata": {},
   "outputs": [],
   "source": [
    "election"
   ]
  },
  {
   "cell_type": "code",
   "execution_count": null,
   "id": "203292df",
   "metadata": {},
   "outputs": [],
   "source": [
    "election.rename(columns = {\"index\":\"id\"}, inplace = True)"
   ]
  },
  {
   "cell_type": "code",
   "execution_count": null,
   "id": "533aa3e4",
   "metadata": {},
   "outputs": [],
   "source": [
    "conn = engine.connect()\n",
    "conn.execute(Elections.insert(),election.to_dict('records'))"
   ]
  },
  {
   "cell_type": "markdown",
   "id": "223a0cce",
   "metadata": {},
   "source": [
    "# VAP"
   ]
  },
  {
   "cell_type": "code",
   "execution_count": null,
   "id": "f631e5aa",
   "metadata": {},
   "outputs": [],
   "source": [
    "# [block,district,precint,districting]"
   ]
  },
  {
   "cell_type": "code",
   "execution_count": null,
   "id": "a7cd2d95",
   "metadata": {},
   "outputs": [],
   "source": [
    "def getVAP(levels):\n",
    "    temp = levels[0].loc[:, \"VAP_TOTAL\":\"VAP_OTHER\"].join(levels[0][\"index\"])\n",
    "    for i in range(1,len(levels)):\n",
    "        temp = pd.concat([temp,levels[i].loc[:, \"VAP_TOTAL\":\"VAP_OTHER\"].join(levels[i][\"index\"])])\n",
    "    return temp"
   ]
  },
  {
   "cell_type": "code",
   "execution_count": null,
   "id": "f6e28f27",
   "metadata": {},
   "outputs": [],
   "source": [
    "vap = getVAP(levels)"
   ]
  },
  {
   "cell_type": "code",
   "execution_count": null,
   "id": "a09d6886",
   "metadata": {},
   "outputs": [],
   "source": [
    "vap.rename(columns = {\"index\":\"id\",\n",
    "                      \"VAP_TOTAL\":\"TOTAL\",\n",
    "                      \"VAP_HISPA\":\"HISPA\",\n",
    "                      \"VAP_WHITE\":\"WHITE\",\n",
    "                      \"VAP_BLACK\":\"BLACK\",\n",
    "                      \"VAP_NATIV\":\"NATIV\",\n",
    "                      \"VAP_ASIAN\":\"ASIAN\",\n",
    "                      \"VAP_OTHER\":\"OTHER\",\n",
    "                     }, inplace = True)"
   ]
  },
  {
   "cell_type": "code",
   "execution_count": null,
   "id": "2258b98c",
   "metadata": {},
   "outputs": [],
   "source": [
    "conn = engine.connect()\n",
    "conn.execute(VotingAgePopulations.insert(),vap.to_dict('records'))"
   ]
  },
  {
   "cell_type": "markdown",
   "id": "94c600b1",
   "metadata": {},
   "source": [
    "# State"
   ]
  },
  {
   "cell_type": "code",
   "execution_count": null,
   "id": "a4659412",
   "metadata": {
    "scrolled": true
   },
   "outputs": [],
   "source": [
    "# States = Table(\n",
    "#    'K', meta, \n",
    "#     Column('id', String(255), primary_key = True), \n",
    "#     Column('geometry', LONGTEXT), \n",
    "#     Column('name', String(255)), \n",
    "# )\n",
    "# meta.create_all(engine)"
   ]
  },
  {
   "cell_type": "code",
   "execution_count": null,
   "id": "193474e7",
   "metadata": {},
   "outputs": [],
   "source": [
    "state.drop([\"index\"], axis = 1,inplace = True)\n",
    "state = state.to_wkt()"
   ]
  },
  {
   "cell_type": "code",
   "execution_count": null,
   "id": "454dfc06",
   "metadata": {},
   "outputs": [],
   "source": [
    "state"
   ]
  },
  {
   "cell_type": "code",
   "execution_count": null,
   "id": "d08d458c",
   "metadata": {},
   "outputs": [],
   "source": [
    "conn = engine.connect()\n",
    "conn.execute(States.insert(),state.to_dict('records'))"
   ]
  },
  {
   "cell_type": "markdown",
   "id": "4fd9451f",
   "metadata": {},
   "source": [
    "# Districting"
   ]
  },
  {
   "cell_type": "code",
   "execution_count": null,
   "id": "d30f4642",
   "metadata": {},
   "outputs": [],
   "source": [
    "# Districtings = Table(\n",
    "#    'K', meta, \n",
    "#     Column('id', String(255), primary_key = True), \n",
    "#     Column('electionId', String(255), ForeignKey('Elections.id')), \n",
    "#     Column('populationId', String(255), ForeignKey('Populations.id')), \n",
    "#     Column('stateId', String(255), ForeignKey('States.id')), \n",
    "#     Column('vapId', String(255), ForeignKey('VotingAgePopulations.id')),\n",
    "# )\n",
    "# meta.create_all(engine)"
   ]
  },
  {
   "cell_type": "code",
   "execution_count": null,
   "id": "54655e03",
   "metadata": {},
   "outputs": [],
   "source": [
    "districting"
   ]
  },
  {
   "cell_type": "code",
   "execution_count": null,
   "id": "ff332430",
   "metadata": {},
   "outputs": [],
   "source": [
    "dist = districting[['index']]\n",
    "dist[\"electionId\"] = dist['index']\n",
    "dist[\"populationId\"] = dist['index']\n",
    "dist[\"stateId\"] = FIPS\n",
    "dist[\"vapId\"] = dist['index']"
   ]
  },
  {
   "cell_type": "code",
   "execution_count": null,
   "id": "5295cb71",
   "metadata": {},
   "outputs": [],
   "source": [
    "dist.rename(columns = {\"index\":\"id\"}, inplace = True)"
   ]
  },
  {
   "cell_type": "code",
   "execution_count": null,
   "id": "45b5f75c",
   "metadata": {},
   "outputs": [],
   "source": [
    "dist"
   ]
  },
  {
   "cell_type": "code",
   "execution_count": null,
   "id": "b2b91ac5",
   "metadata": {},
   "outputs": [],
   "source": [
    "list(dist)"
   ]
  },
  {
   "cell_type": "code",
   "execution_count": null,
   "id": "384ba571",
   "metadata": {},
   "outputs": [],
   "source": [
    "dist.vapId.dtype"
   ]
  },
  {
   "cell_type": "code",
   "execution_count": null,
   "id": "d5959d97",
   "metadata": {},
   "outputs": [],
   "source": [
    "conn = engine.connect()\n",
    "conn.execute(Districtings.insert(),dist.to_dict('records'))"
   ]
  },
  {
   "cell_type": "markdown",
   "id": "5f5eb873",
   "metadata": {},
   "source": [
    "# County"
   ]
  },
  {
   "cell_type": "code",
   "execution_count": null,
   "id": "e59c0a28",
   "metadata": {},
   "outputs": [],
   "source": [
    "county"
   ]
  },
  {
   "cell_type": "code",
   "execution_count": null,
   "id": "58d063d0",
   "metadata": {},
   "outputs": [],
   "source": [
    "county.explore()"
   ]
  },
  {
   "cell_type": "code",
   "execution_count": null,
   "id": "649fae81",
   "metadata": {},
   "outputs": [],
   "source": [
    "county = county.to_wkt()"
   ]
  },
  {
   "cell_type": "code",
   "execution_count": null,
   "id": "271dbb73",
   "metadata": {},
   "outputs": [],
   "source": [
    "county.rename(columns = {\"STATE\":\"state\",\n",
    "                         \"COUNTY\":\"county\"}, inplace = True)"
   ]
  },
  {
   "cell_type": "code",
   "execution_count": null,
   "id": "41586390",
   "metadata": {},
   "outputs": [],
   "source": []
  },
  {
   "cell_type": "code",
   "execution_count": null,
   "id": "0d7cf901",
   "metadata": {},
   "outputs": [],
   "source": [
    "county.to_file('./{f}county.geojson'.format(f=NAME), driver='GeoJSON') "
   ]
  },
  {
   "cell_type": "code",
   "execution_count": null,
   "id": "db599eb3",
   "metadata": {},
   "outputs": [],
   "source": [
    "conn = engine.connect()\n",
    "conn.execute(County.insert(),county.to_dict('records'))"
   ]
  },
  {
   "cell_type": "markdown",
   "id": "e6fc6400",
   "metadata": {},
   "source": [
    "# Districts"
   ]
  },
  {
   "cell_type": "code",
   "execution_count": null,
   "id": "d2906986",
   "metadata": {},
   "outputs": [],
   "source": [
    "# Districts = Table(\n",
    "#    'Districts', meta, \n",
    "#     Column('id', String(255), primary_key = True),\n",
    "#     Column('cd', String(255)), \n",
    "#     Column('geometry', LONGTEXT), \n",
    "#     Column('districtingId', String(255),ForeignKey('Districtings.id')), \n",
    "#     Column('electionId', String(255), ForeignKey('Elections.id')), \n",
    "#     Column('populationId', String(255), ForeignKey('Populations.id')), \n",
    "#     Column('vapId', String(255), ForeignKey('VotingAgePopulations.id')),\n",
    "# )\n",
    "# meta.create_all(engine)"
   ]
  },
  {
   "cell_type": "code",
   "execution_count": null,
   "id": "941c3967",
   "metadata": {},
   "outputs": [],
   "source": [
    "district"
   ]
  },
  {
   "cell_type": "code",
   "execution_count": null,
   "id": "62913396",
   "metadata": {},
   "outputs": [],
   "source": [
    "dis = district[['index','CD','geometry']]"
   ]
  },
  {
   "cell_type": "code",
   "execution_count": null,
   "id": "6171e671",
   "metadata": {},
   "outputs": [],
   "source": [
    "dis['districtingId'] = str(FIPS)+\"PL0\"\n",
    "dis['electionId'] = dis['index']\n",
    "dis['populationId'] = dis['index']\n",
    "dis['vapId'] = dis['index']"
   ]
  },
  {
   "cell_type": "code",
   "execution_count": null,
   "id": "59fd86bc",
   "metadata": {},
   "outputs": [],
   "source": [
    "# dis.CD.astype(str)\n",
    "dis.rename(columns = {\"index\":\"id\",\n",
    "                      \"CD\":\"cd\"}, inplace = True)"
   ]
  },
  {
   "cell_type": "code",
   "execution_count": null,
   "id": "eb025175",
   "metadata": {},
   "outputs": [],
   "source": [
    "dis = dis.to_wkt()"
   ]
  },
  {
   "cell_type": "code",
   "execution_count": null,
   "id": "b9144c86",
   "metadata": {
    "scrolled": false
   },
   "outputs": [],
   "source": [
    "dis.geometry.dtype"
   ]
  },
  {
   "cell_type": "code",
   "execution_count": null,
   "id": "b76ca93c",
   "metadata": {},
   "outputs": [],
   "source": [
    "dis.to_file('./{f}district.geojson'.format(f=NAME), driver='GeoJSON') "
   ]
  },
  {
   "cell_type": "code",
   "execution_count": null,
   "id": "ed0d9069",
   "metadata": {
    "scrolled": false
   },
   "outputs": [],
   "source": [
    "conn = engine.connect()\n",
    "conn.execute(Districts.insert(),dis.to_dict('records'))"
   ]
  },
  {
   "cell_type": "markdown",
   "id": "2a4a3c7b",
   "metadata": {},
   "source": [
    "# Precint"
   ]
  },
  {
   "cell_type": "code",
   "execution_count": null,
   "id": "587efe7e",
   "metadata": {},
   "outputs": [],
   "source": [
    "# Precincts = Table(\n",
    "#    'Precincts', meta, \n",
    "#     Column('id', String(255), primary_key = True),\n",
    "#     Column('districtId', String(255)), \n",
    "#     Column('geometry', LONGTEXT), \n",
    "#     Column('electionId', String(255), ForeignKey('Elections.id')), \n",
    "#     Column('populationId', String(255), ForeignKey('Populations.id')), \n",
    "#     Column('vapId', String(255), ForeignKey('VotingAgePopulations.id')),\n",
    "# )"
   ]
  },
  {
   "cell_type": "code",
   "execution_count": null,
   "id": "f1092641",
   "metadata": {},
   "outputs": [],
   "source": [
    "precint"
   ]
  },
  {
   "cell_type": "code",
   "execution_count": null,
   "id": "2063d0d5",
   "metadata": {},
   "outputs": [],
   "source": [
    "prec = precint[['index','CD','geometry']]\n",
    "prec['districtId'] = str(FIPS) + \"PL0D\" + prec.CD.astype(str)\n",
    "prec['electionId'] = prec['index']\n",
    "prec['populationId'] = prec['index']\n",
    "prec['vapId'] = prec['index']\n",
    "prec['county'] = precint['COUNTY']"
   ]
  },
  {
   "cell_type": "code",
   "execution_count": null,
   "id": "916d00e6",
   "metadata": {},
   "outputs": [],
   "source": [
    "prec.drop([\"CD\"], axis = 1,inplace = True)"
   ]
  },
  {
   "cell_type": "code",
   "execution_count": null,
   "id": "4cd68bed",
   "metadata": {},
   "outputs": [],
   "source": [
    "prec.rename(columns = {\"index\":\"id\"}, inplace = True)"
   ]
  },
  {
   "cell_type": "code",
   "execution_count": null,
   "id": "07795781",
   "metadata": {},
   "outputs": [],
   "source": [
    "prec = prec.to_wkt()"
   ]
  },
  {
   "cell_type": "code",
   "execution_count": null,
   "id": "b32b8f2e",
   "metadata": {},
   "outputs": [],
   "source": [
    "prec"
   ]
  },
  {
   "cell_type": "code",
   "execution_count": null,
   "id": "d122eebc",
   "metadata": {},
   "outputs": [],
   "source": [
    "prec.geometry.dtype"
   ]
  },
  {
   "cell_type": "code",
   "execution_count": null,
   "id": "e9bfa295",
   "metadata": {},
   "outputs": [],
   "source": [
    "prec.to_file('./{f}precinct.geojson'.format(f=NAME), driver='GeoJSON') "
   ]
  },
  {
   "cell_type": "code",
   "execution_count": null,
   "id": "9fb87f84",
   "metadata": {
    "scrolled": false
   },
   "outputs": [],
   "source": [
    "conn = engine.connect()\n",
    "conn.execute(Precincts.insert(),prec.to_dict('records'))"
   ]
  },
  {
   "cell_type": "markdown",
   "id": "871da436",
   "metadata": {},
   "source": [
    "# Blocks"
   ]
  },
  {
   "cell_type": "code",
   "execution_count": null,
   "id": "7bb6a507",
   "metadata": {},
   "outputs": [],
   "source": [
    "# CensusBlocks = Table(\n",
    "#    'CensusBlocks', meta, \n",
    "#     Column('id', String(255), primary_key = True),\n",
    "#     Column('geometry', LONGTEXT), \n",
    "#     Column('electionId', String(255), ForeignKey('Elections.id')), \n",
    "#     Column('populationId', String(255), ForeignKey('Populations.id')), \n",
    "#     Column('precinctId', String(255), ForeignKey('Precincts.id')), \n",
    "#     Column('vapId', String(255), ForeignKey('VotingAgePopulations.id')),\n",
    "# )\n",
    "# meta.create_all(engine)"
   ]
  },
  {
   "cell_type": "code",
   "execution_count": null,
   "id": "7d00b1df",
   "metadata": {},
   "outputs": [],
   "source": [
    "block"
   ]
  },
  {
   "cell_type": "code",
   "execution_count": null,
   "id": "e696115e",
   "metadata": {},
   "outputs": [],
   "source": [
    "b = block[['index','geometry','PrecintID']]\n",
    "b['electionId'] = b['index']\n",
    "b['populationId'] = b['index']\n",
    "b['vapId'] = b['index']"
   ]
  },
  {
   "cell_type": "code",
   "execution_count": null,
   "id": "08785983",
   "metadata": {},
   "outputs": [],
   "source": [
    "b.rename(columns = {\"index\":\"id\",\n",
    "                    \"PrecintID\":\"precinctId\",\n",
    "                    }, inplace = True)\n",
    "b = b.to_wkt()"
   ]
  },
  {
   "cell_type": "code",
   "execution_count": null,
   "id": "a06b54cf",
   "metadata": {},
   "outputs": [],
   "source": [
    "b"
   ]
  },
  {
   "cell_type": "code",
   "execution_count": null,
   "id": "2418af10",
   "metadata": {
    "scrolled": false
   },
   "outputs": [],
   "source": [
    "conn = engine.connect()\n",
    "conn.execute(CensusBlocks.insert(),b.to_dict('records'))"
   ]
  },
  {
   "cell_type": "markdown",
   "id": "c43073ab",
   "metadata": {},
   "source": [
    "# CBNeigh"
   ]
  },
  {
   "cell_type": "code",
   "execution_count": null,
   "id": "c17ea546",
   "metadata": {},
   "outputs": [],
   "source": [
    "CensusBlockNeighbors = Table(\n",
    "   'CensusBlockNeighbors', meta, \n",
    "    Column('blockId', String(255), ForeignKey('CensusBlocks.id'), primary_key = True),\n",
    "    Column('neighborId', String(255), ForeignKey('CensusBlocks.id'), primary_key = True)\n",
    ")\n",
    "# PrecinctNeighbors = Table(\n",
    "#    'PrecinctNeighbors', meta, \n",
    "#     Column('precinctId', String(255), primary_key = True),\n",
    "#     Column('neighborId', String(255), ForeignKey('Precincts.id'), primary_key = True)\n",
    "# )\n",
    "meta.create_all(engine)"
   ]
  },
  {
   "cell_type": "code",
   "execution_count": null,
   "id": "3ddfa2d7",
   "metadata": {},
   "outputs": [],
   "source": [
    "block"
   ]
  },
  {
   "cell_type": "code",
   "execution_count": null,
   "id": "ed84b4b1",
   "metadata": {},
   "outputs": [],
   "source": [
    "test = block[['NEIGHBORS']]\n",
    "ind = block[['index']]"
   ]
  },
  {
   "cell_type": "code",
   "execution_count": null,
   "id": "d6f7e865",
   "metadata": {},
   "outputs": [],
   "source": [
    "cbn = test.apply(lambda x: pd.Series(x['NEIGHBORS'].split(\",\")), axis=1).stack().reset_index(level=1, drop=True)\n",
    "cbn = cbn.to_frame(name=\"NEIGHBORS\")\n",
    "# cbn[\"index\"] = str(FIPS) + \"B\" + cbn.index.astype(str)\n",
    "cbn = cbn[cbn['NEIGHBORS'] != '']"
   ]
  },
  {
   "cell_type": "code",
   "execution_count": null,
   "id": "fc593e30",
   "metadata": {},
   "outputs": [],
   "source": [
    "cbn = pd.merge(cbn, ind, left_index=True, right_index=True)"
   ]
  },
  {
   "cell_type": "code",
   "execution_count": null,
   "id": "87ca4de4",
   "metadata": {},
   "outputs": [],
   "source": [
    "cbn.rename(columns = {\"index\":\"blockId\",\n",
    "                      \"NEIGHBORS\":\"neighborId\",\n",
    "                      }, inplace = True)"
   ]
  },
  {
   "cell_type": "code",
   "execution_count": null,
   "id": "00915fe8",
   "metadata": {
    "scrolled": false
   },
   "outputs": [],
   "source": [
    "cbn"
   ]
  },
  {
   "cell_type": "code",
   "execution_count": null,
   "id": "7a4216c5",
   "metadata": {},
   "outputs": [],
   "source": [
    "conn = engine.connect()\n",
    "conn.execute(CensusBlockNeighbors.insert(),cbn.to_dict('records'))"
   ]
  },
  {
   "cell_type": "code",
   "execution_count": null,
   "id": "d50ec43b",
   "metadata": {},
   "outputs": [],
   "source": [
    "# print(i)"
   ]
  },
  {
   "cell_type": "code",
   "execution_count": null,
   "id": "89a488aa",
   "metadata": {},
   "outputs": [],
   "source": [
    "# for x in range(chunks):\n",
    "#     df_sliced = cbn.iloc[i:j]\n",
    "#     conn = engine.connect()\n",
    "#     conn.execute(CensusBlockNeighbors.insert(),df_sliced.to_dict('records'))\n",
    "# #     print(df_sliced.to_dict('records'))\n",
    "#     # df_list.append(df_sliced)\n",
    "# #     df_sliced.to_excel('worldcities_CHUNK-BY-ROWS_'+str(i)+'.xlsx', index=None)\n",
    "    \n",
    "#     i += expected_rows\n",
    "#     j += expected_rows"
   ]
  },
  {
   "cell_type": "markdown",
   "id": "1f08c3c7",
   "metadata": {},
   "source": [
    "# PrecinctNeighbors"
   ]
  },
  {
   "cell_type": "code",
   "execution_count": null,
   "id": "7d406413",
   "metadata": {},
   "outputs": [],
   "source": [
    "PrecinctNeighbors = Table(\n",
    "   'PrecinctNeighbors', meta, \n",
    "    Column('precinctId', String(255), primary_key = True),\n",
    "    Column('neighborId', String(255), ForeignKey('Precincts.id'), primary_key = True)\n",
    ")\n",
    "meta.create_all(engine)"
   ]
  },
  {
   "cell_type": "code",
   "execution_count": null,
   "id": "6b740c62",
   "metadata": {},
   "outputs": [],
   "source": [
    "precint"
   ]
  },
  {
   "cell_type": "code",
   "execution_count": null,
   "id": "5aca24c3",
   "metadata": {},
   "outputs": [],
   "source": [
    "test = precint[['NEIGHBORS']]"
   ]
  },
  {
   "cell_type": "code",
   "execution_count": null,
   "id": "4b260f5a",
   "metadata": {},
   "outputs": [],
   "source": [
    "test"
   ]
  },
  {
   "cell_type": "code",
   "execution_count": null,
   "id": "a30c73a0",
   "metadata": {},
   "outputs": [],
   "source": [
    "pn = test.apply(lambda x: pd.Series(x['NEIGHBORS'].split(\",\")), axis=1).stack().reset_index(level=1, drop=True)\n",
    "pn = pn.to_frame(name=\"NEIGHBORS\")\n",
    "pn[\"index\"] = str(FIPS) + \"P\" + pn.index.astype(str)"
   ]
  },
  {
   "cell_type": "code",
   "execution_count": null,
   "id": "f13bfe7e",
   "metadata": {},
   "outputs": [],
   "source": [
    "pn"
   ]
  },
  {
   "cell_type": "code",
   "execution_count": null,
   "id": "31e098f1",
   "metadata": {},
   "outputs": [],
   "source": [
    "pn.rename(columns = {\"index\":\"precinctId\",\n",
    "                      \"NEIGHBORS\":\"neighborId\",\n",
    "                      }, inplace = True)"
   ]
  },
  {
   "cell_type": "code",
   "execution_count": null,
   "id": "9f49f31c",
   "metadata": {},
   "outputs": [],
   "source": [
    "conn = engine.connect()\n",
    "conn.execute(PrecinctNeighbors.insert(),pn.to_dict('records'))"
   ]
  },
  {
   "cell_type": "markdown",
   "id": "93506d6f",
   "metadata": {},
   "source": [
    "# PrecinctCensusBlocks"
   ]
  },
  {
   "cell_type": "code",
   "execution_count": 6,
   "id": "26c1d8a8",
   "metadata": {},
   "outputs": [
    {
     "name": "stdout",
     "output_type": "stream",
     "text": [
      "2021-12-13 23:40:56,383 INFO sqlalchemy.engine.Engine BEGIN (implicit)\n",
      "2021-12-13 23:40:56,385 INFO sqlalchemy.engine.Engine SELECT COUNT(*) FROM information_schema.tables WHERE table_schema = %(table_schema)s AND table_name = %(table_name)s\n",
      "2021-12-13 23:40:56,385 INFO sqlalchemy.engine.Engine [cached since 76.64s ago] {'table_schema': 'pistons', 'table_name': 'CensusBlocks'}\n",
      "2021-12-13 23:40:56,402 INFO sqlalchemy.engine.Engine SELECT COUNT(*) FROM information_schema.tables WHERE table_schema = %(table_schema)s AND table_name = %(table_name)s\n",
      "2021-12-13 23:40:56,403 INFO sqlalchemy.engine.Engine [cached since 76.66s ago] {'table_schema': 'pistons', 'table_name': 'Precincts'}\n",
      "2021-12-13 23:40:56,421 INFO sqlalchemy.engine.Engine SELECT COUNT(*) FROM information_schema.tables WHERE table_schema = %(table_schema)s AND table_name = %(table_name)s\n",
      "2021-12-13 23:40:56,421 INFO sqlalchemy.engine.Engine [cached since 76.68s ago] {'table_schema': 'pistons', 'table_name': 'Districts'}\n",
      "2021-12-13 23:40:56,439 INFO sqlalchemy.engine.Engine SELECT COUNT(*) FROM information_schema.tables WHERE table_schema = %(table_schema)s AND table_name = %(table_name)s\n",
      "2021-12-13 23:40:56,440 INFO sqlalchemy.engine.Engine [cached since 76.69s ago] {'table_schema': 'pistons', 'table_name': 'County'}\n",
      "2021-12-13 23:40:56,458 INFO sqlalchemy.engine.Engine SELECT COUNT(*) FROM information_schema.tables WHERE table_schema = %(table_schema)s AND table_name = %(table_name)s\n",
      "2021-12-13 23:40:56,459 INFO sqlalchemy.engine.Engine [cached since 76.71s ago] {'table_schema': 'pistons', 'table_name': 'Districtings'}\n",
      "2021-12-13 23:40:56,474 INFO sqlalchemy.engine.Engine SELECT COUNT(*) FROM information_schema.tables WHERE table_schema = %(table_schema)s AND table_name = %(table_name)s\n",
      "2021-12-13 23:40:56,475 INFO sqlalchemy.engine.Engine [cached since 76.73s ago] {'table_schema': 'pistons', 'table_name': 'States'}\n",
      "2021-12-13 23:40:56,490 INFO sqlalchemy.engine.Engine SELECT COUNT(*) FROM information_schema.tables WHERE table_schema = %(table_schema)s AND table_name = %(table_name)s\n",
      "2021-12-13 23:40:56,491 INFO sqlalchemy.engine.Engine [cached since 76.75s ago] {'table_schema': 'pistons', 'table_name': 'Elections'}\n",
      "2021-12-13 23:40:56,509 INFO sqlalchemy.engine.Engine SELECT COUNT(*) FROM information_schema.tables WHERE table_schema = %(table_schema)s AND table_name = %(table_name)s\n",
      "2021-12-13 23:40:56,510 INFO sqlalchemy.engine.Engine [cached since 76.76s ago] {'table_schema': 'pistons', 'table_name': 'Populations'}\n",
      "2021-12-13 23:40:56,525 INFO sqlalchemy.engine.Engine SELECT COUNT(*) FROM information_schema.tables WHERE table_schema = %(table_schema)s AND table_name = %(table_name)s\n",
      "2021-12-13 23:40:56,525 INFO sqlalchemy.engine.Engine [cached since 76.78s ago] {'table_schema': 'pistons', 'table_name': 'VotingAgePopulations'}\n",
      "2021-12-13 23:40:56,541 INFO sqlalchemy.engine.Engine SELECT COUNT(*) FROM information_schema.tables WHERE table_schema = %(table_schema)s AND table_name = %(table_name)s\n",
      "2021-12-13 23:40:56,541 INFO sqlalchemy.engine.Engine [cached since 76.8s ago] {'table_schema': 'pistons', 'table_name': 'PrecinctCensusBlocks'}\n",
      "2021-12-13 23:40:56,560 INFO sqlalchemy.engine.Engine COMMIT\n"
     ]
    }
   ],
   "source": [
    "PrecinctCensusBlocks = Table(\n",
    "   'PrecinctCensusBlocks', meta, \n",
    "    Column('precinctId', String(255), primary_key = True),\n",
    "    Column('censusBlockId', String(255), ForeignKey('CensusBlocks.id'), primary_key = True)\n",
    ")\n",
    "meta.create_all(engine)"
   ]
  },
  {
   "cell_type": "code",
   "execution_count": 7,
   "id": "835c2d42",
   "metadata": {},
   "outputs": [
    {
     "data": {
      "text/html": [
       "<div>\n",
       "<style scoped>\n",
       "    .dataframe tbody tr th:only-of-type {\n",
       "        vertical-align: middle;\n",
       "    }\n",
       "\n",
       "    .dataframe tbody tr th {\n",
       "        vertical-align: top;\n",
       "    }\n",
       "\n",
       "    .dataframe thead th {\n",
       "        text-align: right;\n",
       "    }\n",
       "</style>\n",
       "<table border=\"1\" class=\"dataframe\">\n",
       "  <thead>\n",
       "    <tr style=\"text-align: right;\">\n",
       "      <th></th>\n",
       "      <th>index</th>\n",
       "      <th>COUNTY</th>\n",
       "      <th>NUMBER</th>\n",
       "      <th>CD</th>\n",
       "      <th>TOTAL</th>\n",
       "      <th>HISPA</th>\n",
       "      <th>WHITE</th>\n",
       "      <th>BLACK</th>\n",
       "      <th>NATIV</th>\n",
       "      <th>ASIAN</th>\n",
       "      <th>...</th>\n",
       "      <th>VAP_OTHER</th>\n",
       "      <th>NEIGHBORS</th>\n",
       "      <th>BORDER</th>\n",
       "      <th>PrecintID</th>\n",
       "      <th>democraticVotes</th>\n",
       "      <th>republicanVotes</th>\n",
       "      <th>otherVotes</th>\n",
       "      <th>totalVotes</th>\n",
       "      <th>type</th>\n",
       "      <th>geometry</th>\n",
       "    </tr>\n",
       "  </thead>\n",
       "  <tbody>\n",
       "    <tr>\n",
       "      <th>0</th>\n",
       "      <td>42B0</td>\n",
       "      <td>CLINTON</td>\n",
       "      <td>100</td>\n",
       "      <td>12</td>\n",
       "      <td>6</td>\n",
       "      <td>1</td>\n",
       "      <td>4</td>\n",
       "      <td>0</td>\n",
       "      <td>0</td>\n",
       "      <td>1</td>\n",
       "      <td>...</td>\n",
       "      <td>0</td>\n",
       "      <td>42B103350,42B276872,42B77265</td>\n",
       "      <td>0</td>\n",
       "      <td>42P3034</td>\n",
       "      <td>2.981132</td>\n",
       "      <td>8.094340</td>\n",
       "      <td>0.075472</td>\n",
       "      <td>11.150943</td>\n",
       "      <td>PRE2020</td>\n",
       "      <td>POLYGON ((-77.37753 41.18033, -77.37658 41.180...</td>\n",
       "    </tr>\n",
       "    <tr>\n",
       "      <th>1</th>\n",
       "      <td>42B1</td>\n",
       "      <td>BEAVER</td>\n",
       "      <td>985</td>\n",
       "      <td>17</td>\n",
       "      <td>35</td>\n",
       "      <td>0</td>\n",
       "      <td>28</td>\n",
       "      <td>1</td>\n",
       "      <td>0</td>\n",
       "      <td>0</td>\n",
       "      <td>...</td>\n",
       "      <td>5</td>\n",
       "      <td>42B36915,42B299843,42B47463,42B326339,42B321179</td>\n",
       "      <td>0</td>\n",
       "      <td>42P1590</td>\n",
       "      <td>15.206897</td>\n",
       "      <td>22.068966</td>\n",
       "      <td>0.620690</td>\n",
       "      <td>37.896552</td>\n",
       "      <td>PRE2020</td>\n",
       "      <td>POLYGON ((-80.26329 40.60001, -80.26281 40.600...</td>\n",
       "    </tr>\n",
       "    <tr>\n",
       "      <th>2</th>\n",
       "      <td>42B2</td>\n",
       "      <td>BEAVER</td>\n",
       "      <td>435</td>\n",
       "      <td>17</td>\n",
       "      <td>75</td>\n",
       "      <td>4</td>\n",
       "      <td>67</td>\n",
       "      <td>0</td>\n",
       "      <td>0</td>\n",
       "      <td>0</td>\n",
       "      <td>...</td>\n",
       "      <td>3</td>\n",
       "      <td>42B36985,42B310517,42B297382,42B110387,42B1052...</td>\n",
       "      <td>0</td>\n",
       "      <td>42P1535</td>\n",
       "      <td>12.633333</td>\n",
       "      <td>19.466667</td>\n",
       "      <td>0.200000</td>\n",
       "      <td>32.300000</td>\n",
       "      <td>PRE2020</td>\n",
       "      <td>POLYGON ((-80.34373 40.72152, -80.34371 40.721...</td>\n",
       "    </tr>\n",
       "    <tr>\n",
       "      <th>3</th>\n",
       "      <td>42B3</td>\n",
       "      <td>BEAVER</td>\n",
       "      <td>975</td>\n",
       "      <td>17</td>\n",
       "      <td>27</td>\n",
       "      <td>4</td>\n",
       "      <td>20</td>\n",
       "      <td>3</td>\n",
       "      <td>0</td>\n",
       "      <td>0</td>\n",
       "      <td>...</td>\n",
       "      <td>0</td>\n",
       "      <td>42B220718,42B239414,42B23660</td>\n",
       "      <td>0</td>\n",
       "      <td>42P1589</td>\n",
       "      <td>13.677419</td>\n",
       "      <td>16.064516</td>\n",
       "      <td>0.322581</td>\n",
       "      <td>30.064516</td>\n",
       "      <td>PRE2020</td>\n",
       "      <td>POLYGON ((-80.27489 40.59180, -80.27482 40.592...</td>\n",
       "    </tr>\n",
       "    <tr>\n",
       "      <th>4</th>\n",
       "      <td>42B4</td>\n",
       "      <td>BEAVER</td>\n",
       "      <td>1460</td>\n",
       "      <td>17</td>\n",
       "      <td>0</td>\n",
       "      <td>0</td>\n",
       "      <td>0</td>\n",
       "      <td>0</td>\n",
       "      <td>0</td>\n",
       "      <td>0</td>\n",
       "      <td>...</td>\n",
       "      <td>0</td>\n",
       "      <td>42B108026,42B165853,42B176364,42B86883</td>\n",
       "      <td>0</td>\n",
       "      <td>42P1503</td>\n",
       "      <td>5.350000</td>\n",
       "      <td>3.000000</td>\n",
       "      <td>0.150000</td>\n",
       "      <td>8.500000</td>\n",
       "      <td>PRE2020</td>\n",
       "      <td>POLYGON ((-80.29442 40.70585, -80.29429 40.705...</td>\n",
       "    </tr>\n",
       "    <tr>\n",
       "      <th>...</th>\n",
       "      <td>...</td>\n",
       "      <td>...</td>\n",
       "      <td>...</td>\n",
       "      <td>...</td>\n",
       "      <td>...</td>\n",
       "      <td>...</td>\n",
       "      <td>...</td>\n",
       "      <td>...</td>\n",
       "      <td>...</td>\n",
       "      <td>...</td>\n",
       "      <td>...</td>\n",
       "      <td>...</td>\n",
       "      <td>...</td>\n",
       "      <td>...</td>\n",
       "      <td>...</td>\n",
       "      <td>...</td>\n",
       "      <td>...</td>\n",
       "      <td>...</td>\n",
       "      <td>...</td>\n",
       "      <td>...</td>\n",
       "      <td>...</td>\n",
       "    </tr>\n",
       "    <tr>\n",
       "      <th>336980</th>\n",
       "      <td>42B336980</td>\n",
       "      <td>BRADFORD</td>\n",
       "      <td>610</td>\n",
       "      <td>12</td>\n",
       "      <td>136</td>\n",
       "      <td>0</td>\n",
       "      <td>127</td>\n",
       "      <td>2</td>\n",
       "      <td>0</td>\n",
       "      <td>1</td>\n",
       "      <td>...</td>\n",
       "      <td>6</td>\n",
       "      <td>42B101577,42B125382,42B236012,42B293675,42B322795</td>\n",
       "      <td>0</td>\n",
       "      <td>42P2002</td>\n",
       "      <td>2.224719</td>\n",
       "      <td>6.314607</td>\n",
       "      <td>0.146067</td>\n",
       "      <td>8.685393</td>\n",
       "      <td>PRE2020</td>\n",
       "      <td>POLYGON ((-76.37585 41.77522, -76.37576 41.775...</td>\n",
       "    </tr>\n",
       "    <tr>\n",
       "      <th>336981</th>\n",
       "      <td>42B336981</td>\n",
       "      <td>BRADFORD</td>\n",
       "      <td>530</td>\n",
       "      <td>12</td>\n",
       "      <td>5</td>\n",
       "      <td>0</td>\n",
       "      <td>4</td>\n",
       "      <td>0</td>\n",
       "      <td>0</td>\n",
       "      <td>1</td>\n",
       "      <td>...</td>\n",
       "      <td>0</td>\n",
       "      <td>42B117100,42B215405,42B252304,42B312090,42B321...</td>\n",
       "      <td>0</td>\n",
       "      <td>42P1993</td>\n",
       "      <td>2.452830</td>\n",
       "      <td>9.150943</td>\n",
       "      <td>0.226415</td>\n",
       "      <td>11.830189</td>\n",
       "      <td>PRE2020</td>\n",
       "      <td>POLYGON ((-76.53683 41.81024, -76.53651 41.810...</td>\n",
       "    </tr>\n",
       "    <tr>\n",
       "      <th>336982</th>\n",
       "      <td>42B336982</td>\n",
       "      <td>BRADFORD</td>\n",
       "      <td>180</td>\n",
       "      <td>12</td>\n",
       "      <td>19</td>\n",
       "      <td>0</td>\n",
       "      <td>19</td>\n",
       "      <td>0</td>\n",
       "      <td>0</td>\n",
       "      <td>0</td>\n",
       "      <td>...</td>\n",
       "      <td>0</td>\n",
       "      <td>42B44313,42B117625,42B184750,42B222907,42B332604</td>\n",
       "      <td>0</td>\n",
       "      <td>42P1954</td>\n",
       "      <td>1.375000</td>\n",
       "      <td>5.982143</td>\n",
       "      <td>0.071429</td>\n",
       "      <td>7.428571</td>\n",
       "      <td>PRE2020</td>\n",
       "      <td>POLYGON ((-76.27715 41.76221, -76.27670 41.762...</td>\n",
       "    </tr>\n",
       "    <tr>\n",
       "      <th>336983</th>\n",
       "      <td>42B336983</td>\n",
       "      <td>BRADFORD</td>\n",
       "      <td>280</td>\n",
       "      <td>12</td>\n",
       "      <td>0</td>\n",
       "      <td>0</td>\n",
       "      <td>0</td>\n",
       "      <td>0</td>\n",
       "      <td>0</td>\n",
       "      <td>0</td>\n",
       "      <td>...</td>\n",
       "      <td>0</td>\n",
       "      <td>42B2670,42B28923,42B146498,42B207726,42B251832</td>\n",
       "      <td>0</td>\n",
       "      <td>42P1965</td>\n",
       "      <td>0.888889</td>\n",
       "      <td>3.569444</td>\n",
       "      <td>0.152778</td>\n",
       "      <td>4.611111</td>\n",
       "      <td>PRE2020</td>\n",
       "      <td>POLYGON ((-76.14922 41.86879, -76.14877 41.868...</td>\n",
       "    </tr>\n",
       "    <tr>\n",
       "      <th>336984</th>\n",
       "      <td>42B336984</td>\n",
       "      <td>BRADFORD</td>\n",
       "      <td>550</td>\n",
       "      <td>12</td>\n",
       "      <td>0</td>\n",
       "      <td>0</td>\n",
       "      <td>0</td>\n",
       "      <td>0</td>\n",
       "      <td>0</td>\n",
       "      <td>0</td>\n",
       "      <td>...</td>\n",
       "      <td>0</td>\n",
       "      <td>42B164666,42B167455,42B172993</td>\n",
       "      <td>0</td>\n",
       "      <td>42P1995</td>\n",
       "      <td>1.538462</td>\n",
       "      <td>5.274725</td>\n",
       "      <td>0.109890</td>\n",
       "      <td>6.923077</td>\n",
       "      <td>PRE2020</td>\n",
       "      <td>POLYGON ((-76.83498 41.96891, -76.83489 41.969...</td>\n",
       "    </tr>\n",
       "  </tbody>\n",
       "</table>\n",
       "<p>336985 rows × 27 columns</p>\n",
       "</div>"
      ],
      "text/plain": [
       "            index    COUNTY NUMBER  CD  TOTAL  HISPA  WHITE  BLACK  NATIV  \\\n",
       "0            42B0   CLINTON    100  12      6      1      4      0      0   \n",
       "1            42B1    BEAVER    985  17     35      0     28      1      0   \n",
       "2            42B2    BEAVER    435  17     75      4     67      0      0   \n",
       "3            42B3    BEAVER    975  17     27      4     20      3      0   \n",
       "4            42B4    BEAVER   1460  17      0      0      0      0      0   \n",
       "...           ...       ...    ...  ..    ...    ...    ...    ...    ...   \n",
       "336980  42B336980  BRADFORD    610  12    136      0    127      2      0   \n",
       "336981  42B336981  BRADFORD    530  12      5      0      4      0      0   \n",
       "336982  42B336982  BRADFORD    180  12     19      0     19      0      0   \n",
       "336983  42B336983  BRADFORD    280  12      0      0      0      0      0   \n",
       "336984  42B336984  BRADFORD    550  12      0      0      0      0      0   \n",
       "\n",
       "        ASIAN  ...  VAP_OTHER  \\\n",
       "0           1  ...          0   \n",
       "1           0  ...          5   \n",
       "2           0  ...          3   \n",
       "3           0  ...          0   \n",
       "4           0  ...          0   \n",
       "...       ...  ...        ...   \n",
       "336980      1  ...          6   \n",
       "336981      1  ...          0   \n",
       "336982      0  ...          0   \n",
       "336983      0  ...          0   \n",
       "336984      0  ...          0   \n",
       "\n",
       "                                                NEIGHBORS  BORDER  PrecintID  \\\n",
       "0                            42B103350,42B276872,42B77265       0    42P3034   \n",
       "1         42B36915,42B299843,42B47463,42B326339,42B321179       0    42P1590   \n",
       "2       42B36985,42B310517,42B297382,42B110387,42B1052...       0    42P1535   \n",
       "3                            42B220718,42B239414,42B23660       0    42P1589   \n",
       "4                  42B108026,42B165853,42B176364,42B86883       0    42P1503   \n",
       "...                                                   ...     ...        ...   \n",
       "336980  42B101577,42B125382,42B236012,42B293675,42B322795       0    42P2002   \n",
       "336981  42B117100,42B215405,42B252304,42B312090,42B321...       0    42P1993   \n",
       "336982   42B44313,42B117625,42B184750,42B222907,42B332604       0    42P1954   \n",
       "336983     42B2670,42B28923,42B146498,42B207726,42B251832       0    42P1965   \n",
       "336984                      42B164666,42B167455,42B172993       0    42P1995   \n",
       "\n",
       "        democraticVotes  republicanVotes  otherVotes  totalVotes     type  \\\n",
       "0              2.981132         8.094340    0.075472   11.150943  PRE2020   \n",
       "1             15.206897        22.068966    0.620690   37.896552  PRE2020   \n",
       "2             12.633333        19.466667    0.200000   32.300000  PRE2020   \n",
       "3             13.677419        16.064516    0.322581   30.064516  PRE2020   \n",
       "4              5.350000         3.000000    0.150000    8.500000  PRE2020   \n",
       "...                 ...              ...         ...         ...      ...   \n",
       "336980         2.224719         6.314607    0.146067    8.685393  PRE2020   \n",
       "336981         2.452830         9.150943    0.226415   11.830189  PRE2020   \n",
       "336982         1.375000         5.982143    0.071429    7.428571  PRE2020   \n",
       "336983         0.888889         3.569444    0.152778    4.611111  PRE2020   \n",
       "336984         1.538462         5.274725    0.109890    6.923077  PRE2020   \n",
       "\n",
       "                                                 geometry  \n",
       "0       POLYGON ((-77.37753 41.18033, -77.37658 41.180...  \n",
       "1       POLYGON ((-80.26329 40.60001, -80.26281 40.600...  \n",
       "2       POLYGON ((-80.34373 40.72152, -80.34371 40.721...  \n",
       "3       POLYGON ((-80.27489 40.59180, -80.27482 40.592...  \n",
       "4       POLYGON ((-80.29442 40.70585, -80.29429 40.705...  \n",
       "...                                                   ...  \n",
       "336980  POLYGON ((-76.37585 41.77522, -76.37576 41.775...  \n",
       "336981  POLYGON ((-76.53683 41.81024, -76.53651 41.810...  \n",
       "336982  POLYGON ((-76.27715 41.76221, -76.27670 41.762...  \n",
       "336983  POLYGON ((-76.14922 41.86879, -76.14877 41.868...  \n",
       "336984  POLYGON ((-76.83498 41.96891, -76.83489 41.969...  \n",
       "\n",
       "[336985 rows x 27 columns]"
      ]
     },
     "execution_count": 7,
     "metadata": {},
     "output_type": "execute_result"
    }
   ],
   "source": [
    "block"
   ]
  },
  {
   "cell_type": "code",
   "execution_count": 8,
   "id": "e0783306",
   "metadata": {},
   "outputs": [],
   "source": [
    "pcb = block[['index',\"PrecintID\"]]"
   ]
  },
  {
   "cell_type": "code",
   "execution_count": 9,
   "id": "01a38a6a",
   "metadata": {},
   "outputs": [
    {
     "name": "stderr",
     "output_type": "stream",
     "text": [
      "/home/diwenliu/anaconda3/envs/geo-env/lib/python3.9/site-packages/pandas/core/frame.py:5039: SettingWithCopyWarning: \n",
      "A value is trying to be set on a copy of a slice from a DataFrame\n",
      "\n",
      "See the caveats in the documentation: https://pandas.pydata.org/pandas-docs/stable/user_guide/indexing.html#returning-a-view-versus-a-copy\n",
      "  return super().rename(\n"
     ]
    }
   ],
   "source": [
    "pcb.rename(columns = {\"PrecintID\":\"precinctId\",\n",
    "                      \"index\":\"censusBlockId\",\n",
    "                      }, inplace = True)"
   ]
  },
  {
   "cell_type": "code",
   "execution_count": 10,
   "id": "d10c96d9",
   "metadata": {},
   "outputs": [
    {
     "data": {
      "text/html": [
       "<div>\n",
       "<style scoped>\n",
       "    .dataframe tbody tr th:only-of-type {\n",
       "        vertical-align: middle;\n",
       "    }\n",
       "\n",
       "    .dataframe tbody tr th {\n",
       "        vertical-align: top;\n",
       "    }\n",
       "\n",
       "    .dataframe thead th {\n",
       "        text-align: right;\n",
       "    }\n",
       "</style>\n",
       "<table border=\"1\" class=\"dataframe\">\n",
       "  <thead>\n",
       "    <tr style=\"text-align: right;\">\n",
       "      <th></th>\n",
       "      <th>censusBlockId</th>\n",
       "      <th>precinctId</th>\n",
       "    </tr>\n",
       "  </thead>\n",
       "  <tbody>\n",
       "    <tr>\n",
       "      <th>0</th>\n",
       "      <td>42B0</td>\n",
       "      <td>42P3034</td>\n",
       "    </tr>\n",
       "    <tr>\n",
       "      <th>1</th>\n",
       "      <td>42B1</td>\n",
       "      <td>42P1590</td>\n",
       "    </tr>\n",
       "    <tr>\n",
       "      <th>2</th>\n",
       "      <td>42B2</td>\n",
       "      <td>42P1535</td>\n",
       "    </tr>\n",
       "    <tr>\n",
       "      <th>3</th>\n",
       "      <td>42B3</td>\n",
       "      <td>42P1589</td>\n",
       "    </tr>\n",
       "    <tr>\n",
       "      <th>4</th>\n",
       "      <td>42B4</td>\n",
       "      <td>42P1503</td>\n",
       "    </tr>\n",
       "    <tr>\n",
       "      <th>...</th>\n",
       "      <td>...</td>\n",
       "      <td>...</td>\n",
       "    </tr>\n",
       "    <tr>\n",
       "      <th>336980</th>\n",
       "      <td>42B336980</td>\n",
       "      <td>42P2002</td>\n",
       "    </tr>\n",
       "    <tr>\n",
       "      <th>336981</th>\n",
       "      <td>42B336981</td>\n",
       "      <td>42P1993</td>\n",
       "    </tr>\n",
       "    <tr>\n",
       "      <th>336982</th>\n",
       "      <td>42B336982</td>\n",
       "      <td>42P1954</td>\n",
       "    </tr>\n",
       "    <tr>\n",
       "      <th>336983</th>\n",
       "      <td>42B336983</td>\n",
       "      <td>42P1965</td>\n",
       "    </tr>\n",
       "    <tr>\n",
       "      <th>336984</th>\n",
       "      <td>42B336984</td>\n",
       "      <td>42P1995</td>\n",
       "    </tr>\n",
       "  </tbody>\n",
       "</table>\n",
       "<p>336985 rows × 2 columns</p>\n",
       "</div>"
      ],
      "text/plain": [
       "       censusBlockId precinctId\n",
       "0               42B0    42P3034\n",
       "1               42B1    42P1590\n",
       "2               42B2    42P1535\n",
       "3               42B3    42P1589\n",
       "4               42B4    42P1503\n",
       "...              ...        ...\n",
       "336980     42B336980    42P2002\n",
       "336981     42B336981    42P1993\n",
       "336982     42B336982    42P1954\n",
       "336983     42B336983    42P1965\n",
       "336984     42B336984    42P1995\n",
       "\n",
       "[336985 rows x 2 columns]"
      ]
     },
     "execution_count": 10,
     "metadata": {},
     "output_type": "execute_result"
    }
   ],
   "source": [
    "pcb"
   ]
  },
  {
   "cell_type": "code",
   "execution_count": 11,
   "id": "1dcc171d",
   "metadata": {},
   "outputs": [],
   "source": [
    "# expected_rows = 100000\n",
    "# chunks = math.floor(len(pcb)/expected_rows + 1)\n",
    "\n",
    "# # Slice the dataframe...\n",
    "# i = 0\n",
    "# j = expected_rows\n",
    "# for x in range(chunks):\n",
    "#     df_sliced = pcb.iloc[i:j]\n",
    "    \n",
    "#     # df_list.append(df_sliced)\n",
    "# #     df_sliced.to_excel('worldcities_CHUNK-BY-ROWS_'+str(i)+'.xlsx', index=None)\n",
    "#     conn = engine.connect()\n",
    "#     conn.execute(PrecinctCensusBlocks.insert(),df_sliced.to_dict('records'))\n",
    "#     i += expected_rows\n",
    "#     j += expected_rows"
   ]
  },
  {
   "cell_type": "code",
   "execution_count": 12,
   "id": "a7b90092",
   "metadata": {},
   "outputs": [
    {
     "data": {
      "text/html": [
       "<div>\n",
       "<style scoped>\n",
       "    .dataframe tbody tr th:only-of-type {\n",
       "        vertical-align: middle;\n",
       "    }\n",
       "\n",
       "    .dataframe tbody tr th {\n",
       "        vertical-align: top;\n",
       "    }\n",
       "\n",
       "    .dataframe thead th {\n",
       "        text-align: right;\n",
       "    }\n",
       "</style>\n",
       "<table border=\"1\" class=\"dataframe\">\n",
       "  <thead>\n",
       "    <tr style=\"text-align: right;\">\n",
       "      <th></th>\n",
       "      <th>censusBlockId</th>\n",
       "      <th>precinctId</th>\n",
       "    </tr>\n",
       "  </thead>\n",
       "  <tbody>\n",
       "    <tr>\n",
       "      <th>0</th>\n",
       "      <td>42B0</td>\n",
       "      <td>42P3034</td>\n",
       "    </tr>\n",
       "    <tr>\n",
       "      <th>1</th>\n",
       "      <td>42B1</td>\n",
       "      <td>42P1590</td>\n",
       "    </tr>\n",
       "    <tr>\n",
       "      <th>2</th>\n",
       "      <td>42B2</td>\n",
       "      <td>42P1535</td>\n",
       "    </tr>\n",
       "    <tr>\n",
       "      <th>3</th>\n",
       "      <td>42B3</td>\n",
       "      <td>42P1589</td>\n",
       "    </tr>\n",
       "    <tr>\n",
       "      <th>4</th>\n",
       "      <td>42B4</td>\n",
       "      <td>42P1503</td>\n",
       "    </tr>\n",
       "    <tr>\n",
       "      <th>...</th>\n",
       "      <td>...</td>\n",
       "      <td>...</td>\n",
       "    </tr>\n",
       "    <tr>\n",
       "      <th>336980</th>\n",
       "      <td>42B336980</td>\n",
       "      <td>42P2002</td>\n",
       "    </tr>\n",
       "    <tr>\n",
       "      <th>336981</th>\n",
       "      <td>42B336981</td>\n",
       "      <td>42P1993</td>\n",
       "    </tr>\n",
       "    <tr>\n",
       "      <th>336982</th>\n",
       "      <td>42B336982</td>\n",
       "      <td>42P1954</td>\n",
       "    </tr>\n",
       "    <tr>\n",
       "      <th>336983</th>\n",
       "      <td>42B336983</td>\n",
       "      <td>42P1965</td>\n",
       "    </tr>\n",
       "    <tr>\n",
       "      <th>336984</th>\n",
       "      <td>42B336984</td>\n",
       "      <td>42P1995</td>\n",
       "    </tr>\n",
       "  </tbody>\n",
       "</table>\n",
       "<p>336985 rows × 2 columns</p>\n",
       "</div>"
      ],
      "text/plain": [
       "       censusBlockId precinctId\n",
       "0               42B0    42P3034\n",
       "1               42B1    42P1590\n",
       "2               42B2    42P1535\n",
       "3               42B3    42P1589\n",
       "4               42B4    42P1503\n",
       "...              ...        ...\n",
       "336980     42B336980    42P2002\n",
       "336981     42B336981    42P1993\n",
       "336982     42B336982    42P1954\n",
       "336983     42B336983    42P1965\n",
       "336984     42B336984    42P1995\n",
       "\n",
       "[336985 rows x 2 columns]"
      ]
     },
     "execution_count": 12,
     "metadata": {},
     "output_type": "execute_result"
    }
   ],
   "source": [
    "pcb"
   ]
  },
  {
   "cell_type": "code",
   "execution_count": 13,
   "id": "12c300d3",
   "metadata": {},
   "outputs": [
    {
     "data": {
      "text/html": [
       "<div>\n",
       "<style scoped>\n",
       "    .dataframe tbody tr th:only-of-type {\n",
       "        vertical-align: middle;\n",
       "    }\n",
       "\n",
       "    .dataframe tbody tr th {\n",
       "        vertical-align: top;\n",
       "    }\n",
       "\n",
       "    .dataframe thead th {\n",
       "        text-align: right;\n",
       "    }\n",
       "</style>\n",
       "<table border=\"1\" class=\"dataframe\">\n",
       "  <thead>\n",
       "    <tr style=\"text-align: right;\">\n",
       "      <th></th>\n",
       "      <th>censusBlockId</th>\n",
       "      <th>precinctId</th>\n",
       "    </tr>\n",
       "  </thead>\n",
       "  <tbody>\n",
       "  </tbody>\n",
       "</table>\n",
       "</div>"
      ],
      "text/plain": [
       "Empty DataFrame\n",
       "Columns: [censusBlockId, precinctId]\n",
       "Index: []"
      ]
     },
     "execution_count": 13,
     "metadata": {},
     "output_type": "execute_result"
    }
   ],
   "source": [
    "pcb.loc[pcb['precinctId'] == \"24P0\"]"
   ]
  },
  {
   "cell_type": "code",
   "execution_count": 14,
   "id": "c4060066",
   "metadata": {},
   "outputs": [
    {
     "name": "stdout",
     "output_type": "stream",
     "text": [
      "2021-12-13 23:40:59,008 INFO sqlalchemy.engine.Engine INSERT INTO `PrecinctCensusBlocks` (`precinctId`, `censusBlockId`) VALUES (%(precinctId)s, %(censusBlockId)s)\n",
      "2021-12-13 23:40:59,017 INFO sqlalchemy.engine.Engine [generated in 1.21552s] ({'precinctId': '42P3034', 'censusBlockId': '42B0'}, {'precinctId': '42P1590', 'censusBlockId': '42B1'}, {'precinctId': '42P1535', 'censusBlockId': '42B2'}, {'precinctId': '42P1589', 'censusBlockId': '42B3'}, {'precinctId': '42P1503', 'censusBlockId': '42B4'}, {'precinctId': '42P1466', 'censusBlockId': '42B5'}, {'precinctId': '42P1559', 'censusBlockId': '42B6'}, {'precinctId': '42P6341', 'censusBlockId': '42B7'}  ... displaying 10 of 336985 total bound parameter sets ...  {'precinctId': '42P1965', 'censusBlockId': '42B336983'}, {'precinctId': '42P1995', 'censusBlockId': '42B336984'})\n",
      "2021-12-13 23:43:01,807 INFO sqlalchemy.engine.Engine COMMIT\n"
     ]
    },
    {
     "data": {
      "text/plain": [
       "<sqlalchemy.engine.cursor.LegacyCursorResult at 0x7fe58b70ed00>"
      ]
     },
     "execution_count": 14,
     "metadata": {},
     "output_type": "execute_result"
    }
   ],
   "source": [
    "conn = engine.connect()\n",
    "conn.execute(PrecinctCensusBlocks.insert(),pcb.to_dict('records'))"
   ]
  },
  {
   "cell_type": "markdown",
   "id": "681f7f1e",
   "metadata": {},
   "source": [
    "# PrecinctBorderBlocks"
   ]
  },
  {
   "cell_type": "code",
   "execution_count": 15,
   "id": "6bff6000",
   "metadata": {},
   "outputs": [
    {
     "name": "stdout",
     "output_type": "stream",
     "text": [
      "2021-12-13 23:43:02,009 INFO sqlalchemy.engine.Engine BEGIN (implicit)\n",
      "2021-12-13 23:43:02,010 INFO sqlalchemy.engine.Engine SELECT COUNT(*) FROM information_schema.tables WHERE table_schema = %(table_schema)s AND table_name = %(table_name)s\n",
      "2021-12-13 23:43:02,011 INFO sqlalchemy.engine.Engine [cached since 202.3s ago] {'table_schema': 'pistons', 'table_name': 'CensusBlocks'}\n",
      "2021-12-13 23:43:02,029 INFO sqlalchemy.engine.Engine SELECT COUNT(*) FROM information_schema.tables WHERE table_schema = %(table_schema)s AND table_name = %(table_name)s\n",
      "2021-12-13 23:43:02,030 INFO sqlalchemy.engine.Engine [cached since 202.3s ago] {'table_schema': 'pistons', 'table_name': 'Precincts'}\n",
      "2021-12-13 23:43:02,049 INFO sqlalchemy.engine.Engine SELECT COUNT(*) FROM information_schema.tables WHERE table_schema = %(table_schema)s AND table_name = %(table_name)s\n",
      "2021-12-13 23:43:02,049 INFO sqlalchemy.engine.Engine [cached since 202.3s ago] {'table_schema': 'pistons', 'table_name': 'Districts'}\n",
      "2021-12-13 23:43:02,067 INFO sqlalchemy.engine.Engine SELECT COUNT(*) FROM information_schema.tables WHERE table_schema = %(table_schema)s AND table_name = %(table_name)s\n",
      "2021-12-13 23:43:02,068 INFO sqlalchemy.engine.Engine [cached since 202.3s ago] {'table_schema': 'pistons', 'table_name': 'County'}\n",
      "2021-12-13 23:43:02,085 INFO sqlalchemy.engine.Engine SELECT COUNT(*) FROM information_schema.tables WHERE table_schema = %(table_schema)s AND table_name = %(table_name)s\n",
      "2021-12-13 23:43:02,085 INFO sqlalchemy.engine.Engine [cached since 202.3s ago] {'table_schema': 'pistons', 'table_name': 'Districtings'}\n",
      "2021-12-13 23:43:02,102 INFO sqlalchemy.engine.Engine SELECT COUNT(*) FROM information_schema.tables WHERE table_schema = %(table_schema)s AND table_name = %(table_name)s\n",
      "2021-12-13 23:43:02,103 INFO sqlalchemy.engine.Engine [cached since 202.4s ago] {'table_schema': 'pistons', 'table_name': 'States'}\n",
      "2021-12-13 23:43:02,118 INFO sqlalchemy.engine.Engine SELECT COUNT(*) FROM information_schema.tables WHERE table_schema = %(table_schema)s AND table_name = %(table_name)s\n",
      "2021-12-13 23:43:02,119 INFO sqlalchemy.engine.Engine [cached since 202.4s ago] {'table_schema': 'pistons', 'table_name': 'Elections'}\n",
      "2021-12-13 23:43:02,148 INFO sqlalchemy.engine.Engine SELECT COUNT(*) FROM information_schema.tables WHERE table_schema = %(table_schema)s AND table_name = %(table_name)s\n",
      "2021-12-13 23:43:02,149 INFO sqlalchemy.engine.Engine [cached since 202.4s ago] {'table_schema': 'pistons', 'table_name': 'Populations'}\n",
      "2021-12-13 23:43:02,166 INFO sqlalchemy.engine.Engine SELECT COUNT(*) FROM information_schema.tables WHERE table_schema = %(table_schema)s AND table_name = %(table_name)s\n",
      "2021-12-13 23:43:02,167 INFO sqlalchemy.engine.Engine [cached since 202.4s ago] {'table_schema': 'pistons', 'table_name': 'VotingAgePopulations'}\n",
      "2021-12-13 23:43:02,183 INFO sqlalchemy.engine.Engine SELECT COUNT(*) FROM information_schema.tables WHERE table_schema = %(table_schema)s AND table_name = %(table_name)s\n",
      "2021-12-13 23:43:02,184 INFO sqlalchemy.engine.Engine [cached since 202.4s ago] {'table_schema': 'pistons', 'table_name': 'PrecinctCensusBlocks'}\n",
      "2021-12-13 23:43:02,202 INFO sqlalchemy.engine.Engine SELECT COUNT(*) FROM information_schema.tables WHERE table_schema = %(table_schema)s AND table_name = %(table_name)s\n",
      "2021-12-13 23:43:02,203 INFO sqlalchemy.engine.Engine [cached since 202.5s ago] {'table_schema': 'pistons', 'table_name': 'PrecinctBorderBlocks'}\n",
      "2021-12-13 23:43:02,220 INFO sqlalchemy.engine.Engine COMMIT\n"
     ]
    }
   ],
   "source": [
    "PrecinctBorderBlocks = Table(\n",
    "   'PrecinctBorderBlocks', meta, \n",
    "    Column('precinctId', String(255), primary_key = True),\n",
    "    Column('borderBlockId', String(255), ForeignKey('CensusBlocks.id'), primary_key = True)\n",
    ")\n",
    "meta.create_all(engine)"
   ]
  },
  {
   "cell_type": "code",
   "execution_count": 16,
   "id": "6914380f",
   "metadata": {},
   "outputs": [],
   "source": [
    "test = precint[['BorderBlock']]"
   ]
  },
  {
   "cell_type": "code",
   "execution_count": 17,
   "id": "3c8fbb66",
   "metadata": {},
   "outputs": [
    {
     "data": {
      "text/html": [
       "<div>\n",
       "<style scoped>\n",
       "    .dataframe tbody tr th:only-of-type {\n",
       "        vertical-align: middle;\n",
       "    }\n",
       "\n",
       "    .dataframe tbody tr th {\n",
       "        vertical-align: top;\n",
       "    }\n",
       "\n",
       "    .dataframe thead th {\n",
       "        text-align: right;\n",
       "    }\n",
       "</style>\n",
       "<table border=\"1\" class=\"dataframe\">\n",
       "  <thead>\n",
       "    <tr style=\"text-align: right;\">\n",
       "      <th></th>\n",
       "      <th>index</th>\n",
       "      <th>COUNTY</th>\n",
       "      <th>NUMBER</th>\n",
       "      <th>CD</th>\n",
       "      <th>TOTAL</th>\n",
       "      <th>HISPA</th>\n",
       "      <th>WHITE</th>\n",
       "      <th>BLACK</th>\n",
       "      <th>NATIV</th>\n",
       "      <th>ASIAN</th>\n",
       "      <th>...</th>\n",
       "      <th>VAP_OTHER</th>\n",
       "      <th>democraticVotes</th>\n",
       "      <th>republicanVotes</th>\n",
       "      <th>otherVotes</th>\n",
       "      <th>totalVotes</th>\n",
       "      <th>type</th>\n",
       "      <th>NEIGHBORS</th>\n",
       "      <th>BORDER</th>\n",
       "      <th>BorderBlock</th>\n",
       "      <th>geometry</th>\n",
       "    </tr>\n",
       "  </thead>\n",
       "  <tbody>\n",
       "    <tr>\n",
       "      <th>0</th>\n",
       "      <td>42P0</td>\n",
       "      <td>ADAMS</td>\n",
       "      <td>000020</td>\n",
       "      <td>13</td>\n",
       "      <td>867</td>\n",
       "      <td>175</td>\n",
       "      <td>670</td>\n",
       "      <td>9</td>\n",
       "      <td>0</td>\n",
       "      <td>5</td>\n",
       "      <td>...</td>\n",
       "      <td>4</td>\n",
       "      <td>175</td>\n",
       "      <td>275</td>\n",
       "      <td>6</td>\n",
       "      <td>456</td>\n",
       "      <td>PRE2020</td>\n",
       "      <td>42P5,42P3</td>\n",
       "      <td>0</td>\n",
       "      <td></td>\n",
       "      <td>POLYGON ((-77.29536 39.91578, -77.29595 39.915...</td>\n",
       "    </tr>\n",
       "    <tr>\n",
       "      <th>1</th>\n",
       "      <td>42P1</td>\n",
       "      <td>ADAMS</td>\n",
       "      <td>000030</td>\n",
       "      <td>13</td>\n",
       "      <td>736</td>\n",
       "      <td>265</td>\n",
       "      <td>428</td>\n",
       "      <td>8</td>\n",
       "      <td>1</td>\n",
       "      <td>0</td>\n",
       "      <td>...</td>\n",
       "      <td>15</td>\n",
       "      <td>102</td>\n",
       "      <td>202</td>\n",
       "      <td>8</td>\n",
       "      <td>312</td>\n",
       "      <td>PRE2020</td>\n",
       "      <td>42P8</td>\n",
       "      <td>0</td>\n",
       "      <td></td>\n",
       "      <td>POLYGON ((-77.24497 39.96963, -77.24619 39.969...</td>\n",
       "    </tr>\n",
       "    <tr>\n",
       "      <th>2</th>\n",
       "      <td>42P2</td>\n",
       "      <td>ADAMS</td>\n",
       "      <td>000050</td>\n",
       "      <td>13</td>\n",
       "      <td>1225</td>\n",
       "      <td>231</td>\n",
       "      <td>930</td>\n",
       "      <td>13</td>\n",
       "      <td>3</td>\n",
       "      <td>4</td>\n",
       "      <td>...</td>\n",
       "      <td>28</td>\n",
       "      <td>193</td>\n",
       "      <td>366</td>\n",
       "      <td>7</td>\n",
       "      <td>566</td>\n",
       "      <td>PRE2020</td>\n",
       "      <td>42P3</td>\n",
       "      <td>0</td>\n",
       "      <td></td>\n",
       "      <td>POLYGON ((-77.24917 39.92549, -77.25279 39.925...</td>\n",
       "    </tr>\n",
       "    <tr>\n",
       "      <th>3</th>\n",
       "      <td>42P3</td>\n",
       "      <td>ADAMS</td>\n",
       "      <td>000070</td>\n",
       "      <td>13</td>\n",
       "      <td>2550</td>\n",
       "      <td>246</td>\n",
       "      <td>2197</td>\n",
       "      <td>8</td>\n",
       "      <td>3</td>\n",
       "      <td>10</td>\n",
       "      <td>...</td>\n",
       "      <td>54</td>\n",
       "      <td>371</td>\n",
       "      <td>1045</td>\n",
       "      <td>16</td>\n",
       "      <td>1432</td>\n",
       "      <td>PRE2020</td>\n",
       "      <td>42P0,42P2,42P18,42P13,42P5,42P14,42P8</td>\n",
       "      <td>0</td>\n",
       "      <td></td>\n",
       "      <td>POLYGON ((-77.26345 39.87315, -77.26474 39.874...</td>\n",
       "    </tr>\n",
       "    <tr>\n",
       "      <th>4</th>\n",
       "      <td>42P4</td>\n",
       "      <td>ADAMS</td>\n",
       "      <td>000170</td>\n",
       "      <td>13</td>\n",
       "      <td>2358</td>\n",
       "      <td>113</td>\n",
       "      <td>2133</td>\n",
       "      <td>22</td>\n",
       "      <td>3</td>\n",
       "      <td>22</td>\n",
       "      <td>...</td>\n",
       "      <td>40</td>\n",
       "      <td>437</td>\n",
       "      <td>1009</td>\n",
       "      <td>18</td>\n",
       "      <td>1464</td>\n",
       "      <td>PRE2020</td>\n",
       "      <td>42P20,42P30,42P31,42P4185,42P4175,42P5</td>\n",
       "      <td>0</td>\n",
       "      <td></td>\n",
       "      <td>POLYGON ((-77.28833 39.85352, -77.28852 39.853...</td>\n",
       "    </tr>\n",
       "    <tr>\n",
       "      <th>...</th>\n",
       "      <td>...</td>\n",
       "      <td>...</td>\n",
       "      <td>...</td>\n",
       "      <td>...</td>\n",
       "      <td>...</td>\n",
       "      <td>...</td>\n",
       "      <td>...</td>\n",
       "      <td>...</td>\n",
       "      <td>...</td>\n",
       "      <td>...</td>\n",
       "      <td>...</td>\n",
       "      <td>...</td>\n",
       "      <td>...</td>\n",
       "      <td>...</td>\n",
       "      <td>...</td>\n",
       "      <td>...</td>\n",
       "      <td>...</td>\n",
       "      <td>...</td>\n",
       "      <td>...</td>\n",
       "      <td>...</td>\n",
       "      <td>...</td>\n",
       "    </tr>\n",
       "    <tr>\n",
       "      <th>9234</th>\n",
       "      <td>42P9234</td>\n",
       "      <td>YORK</td>\n",
       "      <td>950</td>\n",
       "      <td>11</td>\n",
       "      <td>6026</td>\n",
       "      <td>215</td>\n",
       "      <td>5041</td>\n",
       "      <td>421</td>\n",
       "      <td>3</td>\n",
       "      <td>143</td>\n",
       "      <td>...</td>\n",
       "      <td>114</td>\n",
       "      <td>1350</td>\n",
       "      <td>2218</td>\n",
       "      <td>39</td>\n",
       "      <td>3607</td>\n",
       "      <td>PRE2020</td>\n",
       "      <td>42P9123,42P9124,42P9127,42P9128,42P9172,42P917...</td>\n",
       "      <td>1</td>\n",
       "      <td>42B81530,42B92017,42B143627,42B191891,42B24458...</td>\n",
       "      <td>POLYGON ((-76.73148 39.80507, -76.73167 39.805...</td>\n",
       "    </tr>\n",
       "    <tr>\n",
       "      <th>9235</th>\n",
       "      <td>42P9235</td>\n",
       "      <td>YORK</td>\n",
       "      <td>960</td>\n",
       "      <td>11</td>\n",
       "      <td>2129</td>\n",
       "      <td>37</td>\n",
       "      <td>1895</td>\n",
       "      <td>78</td>\n",
       "      <td>0</td>\n",
       "      <td>30</td>\n",
       "      <td>...</td>\n",
       "      <td>52</td>\n",
       "      <td>415</td>\n",
       "      <td>802</td>\n",
       "      <td>31</td>\n",
       "      <td>1248</td>\n",
       "      <td>PRE2020</td>\n",
       "      <td>42P9169</td>\n",
       "      <td>0</td>\n",
       "      <td></td>\n",
       "      <td>POLYGON ((-76.59537 39.74363, -76.59587 39.743...</td>\n",
       "    </tr>\n",
       "    <tr>\n",
       "      <th>9236</th>\n",
       "      <td>42P9236</td>\n",
       "      <td>YORK</td>\n",
       "      <td>970</td>\n",
       "      <td>10</td>\n",
       "      <td>4552</td>\n",
       "      <td>106</td>\n",
       "      <td>4252</td>\n",
       "      <td>17</td>\n",
       "      <td>6</td>\n",
       "      <td>12</td>\n",
       "      <td>...</td>\n",
       "      <td>118</td>\n",
       "      <td>667</td>\n",
       "      <td>2001</td>\n",
       "      <td>31</td>\n",
       "      <td>2699</td>\n",
       "      <td>PRE2020</td>\n",
       "      <td>42P9077,42P9139,42P9140,42P9149,42P9191,42P919...</td>\n",
       "      <td>0</td>\n",
       "      <td></td>\n",
       "      <td>POLYGON ((-76.92599 40.01436, -76.92626 40.014...</td>\n",
       "    </tr>\n",
       "    <tr>\n",
       "      <th>9237</th>\n",
       "      <td>42P9237</td>\n",
       "      <td>YORK</td>\n",
       "      <td>980</td>\n",
       "      <td>10</td>\n",
       "      <td>2573</td>\n",
       "      <td>30</td>\n",
       "      <td>2474</td>\n",
       "      <td>8</td>\n",
       "      <td>2</td>\n",
       "      <td>6</td>\n",
       "      <td>...</td>\n",
       "      <td>33</td>\n",
       "      <td>299</td>\n",
       "      <td>1128</td>\n",
       "      <td>9</td>\n",
       "      <td>1436</td>\n",
       "      <td>PRE2020</td>\n",
       "      <td>42P7,42P9,42P9139,42P9154,42P9203,42P9236</td>\n",
       "      <td>1</td>\n",
       "      <td>42B2426,42B11927,42B38494,42B41058,42B54048,42...</td>\n",
       "      <td>POLYGON ((-76.96568 39.93523, -76.96620 39.935...</td>\n",
       "    </tr>\n",
       "    <tr>\n",
       "      <th>9238</th>\n",
       "      <td>42P9238</td>\n",
       "      <td>YORK</td>\n",
       "      <td>990</td>\n",
       "      <td>10</td>\n",
       "      <td>301</td>\n",
       "      <td>4</td>\n",
       "      <td>284</td>\n",
       "      <td>0</td>\n",
       "      <td>0</td>\n",
       "      <td>2</td>\n",
       "      <td>...</td>\n",
       "      <td>10</td>\n",
       "      <td>38</td>\n",
       "      <td>110</td>\n",
       "      <td>6</td>\n",
       "      <td>154</td>\n",
       "      <td>PRE2020</td>\n",
       "      <td>42P9236</td>\n",
       "      <td>0</td>\n",
       "      <td></td>\n",
       "      <td>POLYGON ((-76.93973 40.04784, -76.93990 40.047...</td>\n",
       "    </tr>\n",
       "  </tbody>\n",
       "</table>\n",
       "<p>9239 rows × 27 columns</p>\n",
       "</div>"
      ],
      "text/plain": [
       "        index COUNTY  NUMBER  CD  TOTAL  HISPA  WHITE  BLACK  NATIV  ASIAN  \\\n",
       "0        42P0  ADAMS  000020  13    867    175    670      9      0      5   \n",
       "1        42P1  ADAMS  000030  13    736    265    428      8      1      0   \n",
       "2        42P2  ADAMS  000050  13   1225    231    930     13      3      4   \n",
       "3        42P3  ADAMS  000070  13   2550    246   2197      8      3     10   \n",
       "4        42P4  ADAMS  000170  13   2358    113   2133     22      3     22   \n",
       "...       ...    ...     ...  ..    ...    ...    ...    ...    ...    ...   \n",
       "9234  42P9234   YORK     950  11   6026    215   5041    421      3    143   \n",
       "9235  42P9235   YORK     960  11   2129     37   1895     78      0     30   \n",
       "9236  42P9236   YORK     970  10   4552    106   4252     17      6     12   \n",
       "9237  42P9237   YORK     980  10   2573     30   2474      8      2      6   \n",
       "9238  42P9238   YORK     990  10    301      4    284      0      0      2   \n",
       "\n",
       "      ...  VAP_OTHER  democraticVotes  republicanVotes  otherVotes  \\\n",
       "0     ...          4              175              275           6   \n",
       "1     ...         15              102              202           8   \n",
       "2     ...         28              193              366           7   \n",
       "3     ...         54              371             1045          16   \n",
       "4     ...         40              437             1009          18   \n",
       "...   ...        ...              ...              ...         ...   \n",
       "9234  ...        114             1350             2218          39   \n",
       "9235  ...         52              415              802          31   \n",
       "9236  ...        118              667             2001          31   \n",
       "9237  ...         33              299             1128           9   \n",
       "9238  ...         10               38              110           6   \n",
       "\n",
       "      totalVotes     type                                          NEIGHBORS  \\\n",
       "0            456  PRE2020                                          42P5,42P3   \n",
       "1            312  PRE2020                                               42P8   \n",
       "2            566  PRE2020                                               42P3   \n",
       "3           1432  PRE2020              42P0,42P2,42P18,42P13,42P5,42P14,42P8   \n",
       "4           1464  PRE2020             42P20,42P30,42P31,42P4185,42P4175,42P5   \n",
       "...          ...      ...                                                ...   \n",
       "9234        3607  PRE2020  42P9123,42P9124,42P9127,42P9128,42P9172,42P917...   \n",
       "9235        1248  PRE2020                                            42P9169   \n",
       "9236        2699  PRE2020  42P9077,42P9139,42P9140,42P9149,42P9191,42P919...   \n",
       "9237        1436  PRE2020          42P7,42P9,42P9139,42P9154,42P9203,42P9236   \n",
       "9238         154  PRE2020                                            42P9236   \n",
       "\n",
       "      BORDER                                        BorderBlock  \\\n",
       "0          0                                                      \n",
       "1          0                                                      \n",
       "2          0                                                      \n",
       "3          0                                                      \n",
       "4          0                                                      \n",
       "...      ...                                                ...   \n",
       "9234       1  42B81530,42B92017,42B143627,42B191891,42B24458...   \n",
       "9235       0                                                      \n",
       "9236       0                                                      \n",
       "9237       1  42B2426,42B11927,42B38494,42B41058,42B54048,42...   \n",
       "9238       0                                                      \n",
       "\n",
       "                                               geometry  \n",
       "0     POLYGON ((-77.29536 39.91578, -77.29595 39.915...  \n",
       "1     POLYGON ((-77.24497 39.96963, -77.24619 39.969...  \n",
       "2     POLYGON ((-77.24917 39.92549, -77.25279 39.925...  \n",
       "3     POLYGON ((-77.26345 39.87315, -77.26474 39.874...  \n",
       "4     POLYGON ((-77.28833 39.85352, -77.28852 39.853...  \n",
       "...                                                 ...  \n",
       "9234  POLYGON ((-76.73148 39.80507, -76.73167 39.805...  \n",
       "9235  POLYGON ((-76.59537 39.74363, -76.59587 39.743...  \n",
       "9236  POLYGON ((-76.92599 40.01436, -76.92626 40.014...  \n",
       "9237  POLYGON ((-76.96568 39.93523, -76.96620 39.935...  \n",
       "9238  POLYGON ((-76.93973 40.04784, -76.93990 40.047...  \n",
       "\n",
       "[9239 rows x 27 columns]"
      ]
     },
     "execution_count": 17,
     "metadata": {},
     "output_type": "execute_result"
    }
   ],
   "source": [
    "precint"
   ]
  },
  {
   "cell_type": "code",
   "execution_count": 18,
   "id": "8319cd4b",
   "metadata": {},
   "outputs": [],
   "source": [
    "pbb = test.loc[test.BorderBlock != \"\"]"
   ]
  },
  {
   "cell_type": "code",
   "execution_count": 19,
   "id": "10c6a1ca",
   "metadata": {},
   "outputs": [],
   "source": [
    "pbb = pbb.apply(lambda x: pd.Series(x['BorderBlock'].split(\",\")), axis=1).stack().reset_index(level=1, drop=True)\n",
    "pbb = pbb.to_frame(name=\"BorderBlock\")\n",
    "pbb[\"index\"] = str(FIPS) + \"P\" + pbb.index.astype(str)"
   ]
  },
  {
   "cell_type": "code",
   "execution_count": 20,
   "id": "b4e77b97",
   "metadata": {},
   "outputs": [],
   "source": [
    "pbb.rename(columns = {\"index\":\"precinctId\",\n",
    "                      \"BorderBlock\":\"borderBlockId\",\n",
    "                      }, inplace = True)"
   ]
  },
  {
   "cell_type": "code",
   "execution_count": 21,
   "id": "220af1c6",
   "metadata": {
    "scrolled": false
   },
   "outputs": [
    {
     "data": {
      "text/html": [
       "<div>\n",
       "<style scoped>\n",
       "    .dataframe tbody tr th:only-of-type {\n",
       "        vertical-align: middle;\n",
       "    }\n",
       "\n",
       "    .dataframe tbody tr th {\n",
       "        vertical-align: top;\n",
       "    }\n",
       "\n",
       "    .dataframe thead th {\n",
       "        text-align: right;\n",
       "    }\n",
       "</style>\n",
       "<table border=\"1\" class=\"dataframe\">\n",
       "  <thead>\n",
       "    <tr style=\"text-align: right;\">\n",
       "      <th></th>\n",
       "      <th>borderBlockId</th>\n",
       "      <th>precinctId</th>\n",
       "    </tr>\n",
       "  </thead>\n",
       "  <tbody>\n",
       "    <tr>\n",
       "      <th>6</th>\n",
       "      <td>42B8467</td>\n",
       "      <td>42P6</td>\n",
       "    </tr>\n",
       "    <tr>\n",
       "      <th>6</th>\n",
       "      <td>42B40318</td>\n",
       "      <td>42P6</td>\n",
       "    </tr>\n",
       "    <tr>\n",
       "      <th>6</th>\n",
       "      <td>42B187296</td>\n",
       "      <td>42P6</td>\n",
       "    </tr>\n",
       "    <tr>\n",
       "      <th>6</th>\n",
       "      <td>42B268238</td>\n",
       "      <td>42P6</td>\n",
       "    </tr>\n",
       "    <tr>\n",
       "      <th>7</th>\n",
       "      <td>42B2944</td>\n",
       "      <td>42P7</td>\n",
       "    </tr>\n",
       "    <tr>\n",
       "      <th>...</th>\n",
       "      <td>...</td>\n",
       "      <td>...</td>\n",
       "    </tr>\n",
       "    <tr>\n",
       "      <th>9237</th>\n",
       "      <td>42B198700</td>\n",
       "      <td>42P9237</td>\n",
       "    </tr>\n",
       "    <tr>\n",
       "      <th>9237</th>\n",
       "      <td>42B251345</td>\n",
       "      <td>42P9237</td>\n",
       "    </tr>\n",
       "    <tr>\n",
       "      <th>9237</th>\n",
       "      <td>42B282853</td>\n",
       "      <td>42P9237</td>\n",
       "    </tr>\n",
       "    <tr>\n",
       "      <th>9237</th>\n",
       "      <td>42B298859</td>\n",
       "      <td>42P9237</td>\n",
       "    </tr>\n",
       "    <tr>\n",
       "      <th>9237</th>\n",
       "      <td>42B300335</td>\n",
       "      <td>42P9237</td>\n",
       "    </tr>\n",
       "  </tbody>\n",
       "</table>\n",
       "<p>7938 rows × 2 columns</p>\n",
       "</div>"
      ],
      "text/plain": [
       "     borderBlockId precinctId\n",
       "6          42B8467       42P6\n",
       "6         42B40318       42P6\n",
       "6        42B187296       42P6\n",
       "6        42B268238       42P6\n",
       "7          42B2944       42P7\n",
       "...            ...        ...\n",
       "9237     42B198700    42P9237\n",
       "9237     42B251345    42P9237\n",
       "9237     42B282853    42P9237\n",
       "9237     42B298859    42P9237\n",
       "9237     42B300335    42P9237\n",
       "\n",
       "[7938 rows x 2 columns]"
      ]
     },
     "execution_count": 21,
     "metadata": {},
     "output_type": "execute_result"
    }
   ],
   "source": [
    "pbb"
   ]
  },
  {
   "cell_type": "code",
   "execution_count": 22,
   "id": "5595c793",
   "metadata": {},
   "outputs": [
    {
     "name": "stdout",
     "output_type": "stream",
     "text": [
      "2021-12-13 23:43:03,043 INFO sqlalchemy.engine.Engine INSERT INTO `PrecinctBorderBlocks` (`precinctId`, `borderBlockId`) VALUES (%(precinctId)s, %(borderBlockId)s)\n",
      "2021-12-13 23:43:03,044 INFO sqlalchemy.engine.Engine [generated in 0.01178s] ({'precinctId': '42P6', 'borderBlockId': '42B8467'}, {'precinctId': '42P6', 'borderBlockId': '42B40318'}, {'precinctId': '42P6', 'borderBlockId': '42B187296'}, {'precinctId': '42P6', 'borderBlockId': '42B268238'}, {'precinctId': '42P7', 'borderBlockId': '42B2944'}, {'precinctId': '42P7', 'borderBlockId': '42B13713'}, {'precinctId': '42P7', 'borderBlockId': '42B20853'}, {'precinctId': '42P7', 'borderBlockId': '42B20894'}  ... displaying 10 of 7938 total bound parameter sets ...  {'precinctId': '42P9237', 'borderBlockId': '42B298859'}, {'precinctId': '42P9237', 'borderBlockId': '42B300335'})\n",
      "2021-12-13 23:43:06,763 INFO sqlalchemy.engine.Engine COMMIT\n"
     ]
    },
    {
     "data": {
      "text/plain": [
       "<sqlalchemy.engine.cursor.LegacyCursorResult at 0x7fe5886c7e50>"
      ]
     },
     "execution_count": 22,
     "metadata": {},
     "output_type": "execute_result"
    }
   ],
   "source": [
    "conn = engine.connect()\n",
    "conn.execute(PrecinctBorderBlocks.insert(),pbb.to_dict('records'))"
   ]
  },
  {
   "cell_type": "markdown",
   "id": "aa60a4a9",
   "metadata": {},
   "source": [
    "# DistrictBorderPrecincts"
   ]
  },
  {
   "cell_type": "code",
   "execution_count": null,
   "id": "a47bc8f2",
   "metadata": {},
   "outputs": [],
   "source": [
    "DistrictBorderPrecincts = Table(\n",
    "   'DistrictBorderPrecincts', meta, \n",
    "    Column('districtId', String(255), primary_key = True),\n",
    "    Column('borderPrecinctId', String(255), ForeignKey('Precincts.id'), primary_key = True)\n",
    ")\n",
    "meta.create_all(engine)"
   ]
  },
  {
   "cell_type": "code",
   "execution_count": null,
   "id": "9c11ec87",
   "metadata": {},
   "outputs": [],
   "source": [
    "test = district[['BorderPrecinct','index']]\n",
    "dbp = test.loc[test.BorderPrecinct != \"\"]\n",
    "dbp.set_index('index', inplace = True)"
   ]
  },
  {
   "cell_type": "code",
   "execution_count": null,
   "id": "b61b9618",
   "metadata": {},
   "outputs": [],
   "source": [
    "dbp = dbp.apply(lambda x: pd.Series(x['BorderPrecinct'].split(\",\")), axis=1).stack().reset_index(level=1, drop=True)\n",
    "dbp = dbp.to_frame(name=\"BorderPrecinct\")\n",
    "dbp[\"index\"] = dbp.index.astype(str)"
   ]
  },
  {
   "cell_type": "code",
   "execution_count": null,
   "id": "247c8038",
   "metadata": {},
   "outputs": [],
   "source": [
    "dbp"
   ]
  },
  {
   "cell_type": "code",
   "execution_count": null,
   "id": "a2c44c0f",
   "metadata": {},
   "outputs": [],
   "source": [
    "dbp.rename(columns = {\"index\":\"districtId\",\n",
    "                      \"BorderPrecinct\":\"borderPrecinctId\",\n",
    "                      }, inplace = True)"
   ]
  },
  {
   "cell_type": "code",
   "execution_count": null,
   "id": "1fd51b8b",
   "metadata": {},
   "outputs": [],
   "source": [
    "conn = engine.connect()\n",
    "conn.execute(DistrictBorderPrecincts.insert(),dbp.to_dict('records'))"
   ]
  },
  {
   "cell_type": "markdown",
   "id": "3efac92c",
   "metadata": {},
   "source": [
    "# DistrictNeighbors"
   ]
  },
  {
   "cell_type": "code",
   "execution_count": null,
   "id": "bf339f55",
   "metadata": {},
   "outputs": [],
   "source": [
    "DistrictNeighbors = Table(\n",
    "   'DistrictNeighbors', meta, \n",
    "    Column('districtId', String(255), primary_key = True),\n",
    "    Column('neighborId', String(255), ForeignKey('Districts.id'), primary_key = True)\n",
    ")\n",
    "meta.create_all(engine)"
   ]
  },
  {
   "cell_type": "code",
   "execution_count": null,
   "id": "13ee1618",
   "metadata": {},
   "outputs": [],
   "source": [
    "district"
   ]
  },
  {
   "cell_type": "code",
   "execution_count": null,
   "id": "9defb2ff",
   "metadata": {},
   "outputs": [],
   "source": [
    "test = district[['NEIGHBORS','index']]\n",
    "dn = test.loc[test.NEIGHBORS != \"\"]\n",
    "dn.set_index('index', inplace = True)"
   ]
  },
  {
   "cell_type": "code",
   "execution_count": null,
   "id": "abd5b22d",
   "metadata": {},
   "outputs": [],
   "source": [
    "dn = dn.apply(lambda x: pd.Series(x['NEIGHBORS'].split(\",\")), axis=1).stack().reset_index(level=1, drop=True)\n",
    "dn = dn.to_frame(name=\"NEIGHBORS\")\n",
    "dn[\"index\"] = dn.index.astype(str)"
   ]
  },
  {
   "cell_type": "code",
   "execution_count": null,
   "id": "c24c5695",
   "metadata": {},
   "outputs": [],
   "source": [
    "dn"
   ]
  },
  {
   "cell_type": "code",
   "execution_count": null,
   "id": "75b3b0ae",
   "metadata": {},
   "outputs": [],
   "source": [
    "dn.rename(columns = {\"index\":\"districtId\",\n",
    "                     \"NEIGHBORS\":\"neighborId\",\n",
    "                      }, inplace = True)"
   ]
  },
  {
   "cell_type": "code",
   "execution_count": null,
   "id": "322a6ad0",
   "metadata": {},
   "outputs": [],
   "source": [
    "conn = engine.connect()\n",
    "conn.execute(DistrictNeighbors.insert(),dn.to_dict('records'))"
   ]
  }
 ],
 "metadata": {
  "kernelspec": {
   "display_name": "Python 3 (ipykernel)",
   "language": "python",
   "name": "python3"
  },
  "language_info": {
   "codemirror_mode": {
    "name": "ipython",
    "version": 3
   },
   "file_extension": ".py",
   "mimetype": "text/x-python",
   "name": "python",
   "nbconvert_exporter": "python",
   "pygments_lexer": "ipython3",
   "version": "3.9.7"
  }
 },
 "nbformat": 4,
 "nbformat_minor": 5
}
